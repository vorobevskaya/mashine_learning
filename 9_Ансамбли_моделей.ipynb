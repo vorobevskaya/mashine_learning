{
  "cells": [
    {
      "cell_type": "markdown",
      "metadata": {
        "id": "view-in-github",
        "colab_type": "text"
      },
      "source": [
        "<a href=\"https://colab.research.google.com/github/vorobevskaya/mashine_learning/blob/main/9_%D0%90%D0%BD%D1%81%D0%B0%D0%BC%D0%B1%D0%BB%D0%B8_%D0%BC%D0%BE%D0%B4%D0%B5%D0%BB%D0%B5%D0%B9.ipynb\" target=\"_parent\"><img src=\"https://colab.research.google.com/assets/colab-badge.svg\" alt=\"Open In Colab\"/></a>"
      ]
    },
    {
      "cell_type": "markdown",
      "metadata": {
        "id": "t9a9QX583uPO"
      },
      "source": [
        "# Ансамбли моделей\n",
        "\n",
        "Подключение библиотек. \n",
        "$\n",
        "\\newcommand{\\R}{\\mathbb{R}}\n",
        "\\newcommand{\\X}{\\mathbb{X}}\n",
        "\\newcommand{\\norm}[1]{\\lVert #1 \\rVert}\n",
        "\\newcommand{\\abs}[1]{\\left| #1 \\right|}\n",
        "\\newcommand{\\E}{\\mathbb{E}}\n",
        "\\newcommand{\\D}{\\mathbb{D}}\n",
        "\\renewcommand{\\Prob}{\\mathbb{P}}\n",
        "\\renewcommand{\\le}{\\leqslant}\n",
        "\\renewcommand{\\ge}{\\geqslant}\n",
        "\\newcommand{\\eps}{\\varepsilon}\n",
        "\\newcommand{\\Normal}{\\mathcal{N}}\n",
        "\\DeclareMathOperator{\\TP}{TP}\n",
        "\\DeclareMathOperator{\\FP}{FP}\n",
        "\\DeclareMathOperator{\\TN}{TN}\n",
        "\\DeclareMathOperator{\\FN}{FN}\n",
        "\\DeclareMathOperator{\\Accuracy}{Accuracy}\n",
        "\\DeclareMathOperator{\\Precision}{Precision}\n",
        "\\DeclareMathOperator{\\Recall}{Recall}\n",
        "\\DeclareMathOperator{\\Fscore}{F_1}\n",
        "\\DeclareMathOperator{\\MSE}{MSE}\n",
        "\\DeclareMathOperator{\\RMSE}{RMSE}\n",
        "\\DeclareMathOperator{\\MAE}{MAE}\n",
        "\\DeclareMathOperator{\\MAPE}{MAPE}\n",
        "\\DeclareMathOperator{\\Rsqured}{R^2}\n",
        "$"
      ]
    },
    {
      "cell_type": "code",
      "execution_count": null,
      "metadata": {
        "id": "9sTNIIqw3uPd",
        "outputId": "b528e0f6-a564-446c-baee-30dc5ffc3667"
      },
      "outputs": [
        {
          "name": "stderr",
          "output_type": "stream",
          "text": [
            "C:\\Users\\Administrator\\AppData\\Local\\Temp\\ipykernel_10264\\1269238635.py:14: MatplotlibDeprecationWarning: The get_cmap function was deprecated in Matplotlib 3.7 and will be removed two minor releases later. Use ``matplotlib.colormaps[name]`` or ``matplotlib.colormaps.get_cmap(obj)`` instead.\n",
            "  cm = plt.cm.get_cmap('RdBu')\n"
          ]
        }
      ],
      "source": [
        "import numpy as np\n",
        "import pandas as pd\n",
        "\n",
        "import matplotlib.pyplot as plt\n",
        "import seaborn as sns\n",
        "import ipywidgets as wg\n",
        "\n",
        "from matplotlib.colors import ListedColormap\n",
        "\n",
        "import warnings\n",
        "warnings.filterwarnings(\"ignore\", 'This pattern has match groups')\n",
        "\n",
        "cm_bright = ListedColormap(['red', 'blue'])\n",
        "cm = plt.cm.get_cmap('RdBu')\n",
        "plt.style.use('ggplot')\n",
        "plt.rcParams['figure.figsize'] = (12, 4)"
      ]
    },
    {
      "cell_type": "code",
      "execution_count": null,
      "metadata": {
        "id": "dqUNoP-13uPf"
      },
      "outputs": [],
      "source": [
        "from sklearn import set_config\n",
        "\n",
        "set_config(display='diagram')"
      ]
    },
    {
      "cell_type": "code",
      "execution_count": null,
      "metadata": {
        "id": "Lxb2HT773uPg"
      },
      "outputs": [],
      "source": [
        "from sklearn.metrics import mean_absolute_error, mean_squared_error, r2_score\n",
        "\n",
        "\n",
        "def regression_metrics(true, pred, verbose=False, plot=False):\n",
        "    mae = mean_absolute_error(true, pred)\n",
        "    mape = np.abs((true - pred) / true).mean()\n",
        "    mse = mean_squared_error(true, pred)\n",
        "    rmse = np.sqrt(mse)\n",
        "    r2 = r2_score(true, pred)\n",
        "\n",
        "    if verbose:\n",
        "        print('MAE: ', mae)\n",
        "        print('MSE: ', mse)\n",
        "        print('RMSE:', rmse)\n",
        "        print('MAPE:', mape)\n",
        "        print('R2:  ', r2)\n",
        "        print()\n",
        "        \n",
        "    return (mae, mse, rmse, mape, r2)"
      ]
    },
    {
      "cell_type": "markdown",
      "metadata": {
        "id": "yYUpx6Hq3uPh"
      },
      "source": [
        "# 1. Bootstrap\n",
        "\n",
        "Пусть имеется выборка $X_1, \\ldots, X_n$ из распределения $F(x)$.\n",
        "\n",
        "__Задача:__ построить доверительный интервал для дисперсии."
      ]
    },
    {
      "cell_type": "code",
      "execution_count": null,
      "metadata": {
        "id": "5njKXuD03uPi"
      },
      "outputs": [],
      "source": [
        "N = 256\n",
        "\n",
        "np.random.seed(42)\n",
        "Z = np.random.normal(size=N)\n",
        "loc = np.random.normal(4, 1, size=N)\n",
        "scale = np.random.exponential(size=N)\n",
        "\n",
        "X = loc + scale * Z"
      ]
    },
    {
      "cell_type": "code",
      "execution_count": null,
      "metadata": {
        "id": "3LKlbf423uPi",
        "outputId": "3dbf3abc-d345-497a-e760-40104b27b57e"
      },
      "outputs": [
        {
          "data": {
            "image/png": "[encoded data removed]",
            "text/plain": [
              "<Figure size 432x288 with 1 Axes>"
            ]
          },
          "metadata": {
            "needs_background": "light"
          },
          "output_type": "display_data"
        }
      ],
      "source": [
        "sns.histplot(X)\n",
        "plt.show()"
      ]
    },
    {
      "cell_type": "code",
      "execution_count": null,
      "metadata": {
        "id": "NiZW4acn3uPj",
        "outputId": "a0364e69-a5b7-4a0a-a07b-06cfff1d3878"
      },
      "outputs": [
        {
          "name": "stdout",
          "output_type": "stream",
          "text": [
            "p-value: 0.006303068369654561\n"
          ]
        }
      ],
      "source": [
        "from statsmodels.stats.diagnostic import kstest_normal\n",
        "\n",
        "\n",
        "ks, pvalue = kstest_normal(X, dist='norm')\n",
        "print('p-value:', pvalue)"
      ]
    },
    {
      "cell_type": "code",
      "execution_count": null,
      "metadata": {
        "id": "r5HMxoXx3uPj",
        "outputId": "4a678340-b037-4514-e2be-2a7e1859ce10"
      },
      "outputs": [
        {
          "data": {
            "text/plain": [
              "2.6594957703857585"
            ]
          },
          "execution_count": 9,
          "metadata": {},
          "output_type": "execute_result"
        }
      ],
      "source": [
        "# дисперсия\n",
        "np.var(X)"
      ]
    },
    {
      "cell_type": "markdown",
      "metadata": {
        "id": "OvJ9OMYb3uPk"
      },
      "source": [
        "Как построить доверительный интервал:\n",
        "* нагенерируем новых выборок;\n",
        "* оценим дисперсию на каждой;\n",
        "* для полученной \"выборки дисперсий\" оценим квантили и построим доверительный интервал."
      ]
    },
    {
      "cell_type": "markdown",
      "metadata": {
        "id": "ySFuFtZI3uPk"
      },
      "source": [
        "$X_1, X_2, ..., X_n$ -- выборка.\n",
        "\n",
        "Эмпирическая функция распределения: $F_N^*(y) = \\frac{1}{n}\\sum\\limits_{k=1}^n I(X_k < y)$."
      ]
    },
    {
      "cell_type": "code",
      "execution_count": null,
      "metadata": {
        "id": "cwEdh-la3uPk"
      },
      "outputs": [],
      "source": [
        "# построить гистограмму одного сэмплирования"
      ]
    },
    {
      "cell_type": "code",
      "execution_count": null,
      "metadata": {
        "id": "nUDYG1Ia3uPl",
        "outputId": "d48409fa-c9fc-4ddb-8dc2-a5c7c3c40d71"
      },
      "outputs": [
        {
          "data": {
            "image/png": "[encoded data removed]",
            "text/plain": [
              "<Figure size 432x288 with 1 Axes>"
            ]
          },
          "metadata": {
            "needs_background": "light"
          },
          "output_type": "display_data"
        }
      ],
      "source": [
        "Xb = np.random.choice(X, size=N)\n",
        "sns.histplot(Xb, color='red', alpha=0.4)\n",
        "sns.histplot(X, color='blue', alpha=0.4)\n",
        "plt.show()"
      ]
    },
    {
      "cell_type": "code",
      "execution_count": null,
      "metadata": {
        "id": "Z_7yElOx3uPl",
        "outputId": "24320de3-2b6b-49cc-ccfa-47d633e4d340"
      },
      "outputs": [
        {
          "data": {
            "image/png": "[encoded data removed]",
            "text/plain": [
              "<Figure size 432x288 with 1 Axes>"
            ]
          },
          "metadata": {
            "needs_background": "light"
          },
          "output_type": "display_data"
        }
      ],
      "source": [
        "M = 102400\n",
        "var_list = []\n",
        "\n",
        "for _ in range(M):\n",
        "    Xb = np.random.choice(X, size=N)\n",
        "    var = np.var(Xb)\n",
        "    var_list.append(var)\n",
        "    \n",
        "sns.histplot(var_list)\n",
        "plt.xlabel('Variance of X')\n",
        "plt.show()"
      ]
    },
    {
      "cell_type": "code",
      "execution_count": null,
      "metadata": {
        "id": "1UUsxzdV3uPl",
        "outputId": "7648c6d9-3687-4157-bbcd-cf200ef0f8b2"
      },
      "outputs": [
        {
          "data": {
            "text/plain": [
              "0.0009999999999998899"
            ]
          },
          "execution_count": 12,
          "metadata": {},
          "output_type": "execute_result"
        }
      ],
      "source": [
        "ks, pvalue = kstest_normal(var_list, dist='norm')\n",
        "pvalue"
      ]
    },
    {
      "cell_type": "code",
      "execution_count": null,
      "metadata": {
        "id": "hVSMZ2a63uPm",
        "outputId": "8396cc05-ed22-45c0-cd9f-90ef27ce2df7"
      },
      "outputs": [
        {
          "name": "stdout",
          "output_type": "stream",
          "text": [
            "alpha-confidence interval: (2.01411, 3.39437)\n"
          ]
        }
      ],
      "source": [
        "alpha = 0.05\n",
        "\n",
        "q0 = np.quantile(var_list, alpha / 2)\n",
        "q1 = np.quantile(var_list, 1 - alpha / 2)\n",
        "\n",
        "print(f'alpha-confidence interval: ({q0:.5f}, {q1:.5f})')"
      ]
    },
    {
      "cell_type": "markdown",
      "metadata": {
        "id": "08qMsDui3uPm"
      },
      "source": [
        "# 2. Stacking\n",
        "\n",
        "Датасет __mpg__. По характеристикам машины необходимо спрогнозировать расход топлива.\n",
        "\n",
        "Признаки:\n",
        "* cylinders -- число цилиндров в двигателе;\n",
        "* displacement -- рабочий объем, л;\n",
        "* horsepower -- мощность, л.с.;\n",
        "* weight -- вес, т;\n",
        "* acceleration -- ускорение;\n",
        "* model_year -- год выпуска модели;\n",
        "* origin -- производитель;\n",
        "* name -- название.\n",
        "\n",
        "Целевая переменная:\n",
        "* mpg -- миль на галлон, переведено в км/л."
      ]
    },
    {
      "cell_type": "code",
      "execution_count": null,
      "metadata": {
        "id": "mOHnY3x_3uPm",
        "outputId": "40dfdfe8-6532-46e5-82ab-06687ba752c9"
      },
      "outputs": [
        {
          "data": {
            "text/html": [
              "<div>\n",
              "<style scoped>\n",
              "    .dataframe tbody tr th:only-of-type {\n",
              "        vertical-align: middle;\n",
              "    }\n",
              "\n",
              "    .dataframe tbody tr th {\n",
              "        vertical-align: top;\n",
              "    }\n",
              "\n",
              "    .dataframe thead th {\n",
              "        text-align: right;\n",
              "    }\n",
              "</style>\n",
              "<table border=\"1\" class=\"dataframe\">\n",
              "  <thead>\n",
              "    <tr style=\"text-align: right;\">\n",
              "      <th></th>\n",
              "      <th>mpg</th>\n",
              "      <th>cylinders</th>\n",
              "      <th>displacement</th>\n",
              "      <th>horsepower</th>\n",
              "      <th>weight</th>\n",
              "      <th>acceleration</th>\n",
              "      <th>model_year</th>\n",
              "      <th>origin</th>\n",
              "      <th>name</th>\n",
              "    </tr>\n",
              "  </thead>\n",
              "  <tbody>\n",
              "    <tr>\n",
              "      <th>0</th>\n",
              "      <td>13.067503</td>\n",
              "      <td>8</td>\n",
              "      <td>5.030840</td>\n",
              "      <td>130.0</td>\n",
              "      <td>1.589386</td>\n",
              "      <td>12.0</td>\n",
              "      <td>70</td>\n",
              "      <td>2</td>\n",
              "      <td>chevrolet chevelle malibu</td>\n",
              "    </tr>\n",
              "    <tr>\n",
              "      <th>1</th>\n",
              "      <td>15.681004</td>\n",
              "      <td>8</td>\n",
              "      <td>5.735485</td>\n",
              "      <td>165.0</td>\n",
              "      <td>1.675115</td>\n",
              "      <td>11.5</td>\n",
              "      <td>70</td>\n",
              "      <td>2</td>\n",
              "      <td>buick skylark 320</td>\n",
              "    </tr>\n",
              "    <tr>\n",
              "      <th>2</th>\n",
              "      <td>13.067503</td>\n",
              "      <td>8</td>\n",
              "      <td>5.211098</td>\n",
              "      <td>150.0</td>\n",
              "      <td>1.558542</td>\n",
              "      <td>11.0</td>\n",
              "      <td>70</td>\n",
              "      <td>2</td>\n",
              "      <td>plymouth satellite</td>\n",
              "    </tr>\n",
              "    <tr>\n",
              "      <th>3</th>\n",
              "      <td>14.700941</td>\n",
              "      <td>8</td>\n",
              "      <td>4.981678</td>\n",
              "      <td>150.0</td>\n",
              "      <td>1.557181</td>\n",
              "      <td>12.0</td>\n",
              "      <td>70</td>\n",
              "      <td>2</td>\n",
              "      <td>amc rebel sst</td>\n",
              "    </tr>\n",
              "    <tr>\n",
              "      <th>4</th>\n",
              "      <td>13.836180</td>\n",
              "      <td>8</td>\n",
              "      <td>4.948904</td>\n",
              "      <td>140.0</td>\n",
              "      <td>1.564439</td>\n",
              "      <td>10.5</td>\n",
              "      <td>70</td>\n",
              "      <td>2</td>\n",
              "      <td>ford torino</td>\n",
              "    </tr>\n",
              "  </tbody>\n",
              "</table>\n",
              "</div>"
            ],
            "text/plain": [
              "         mpg  cylinders  displacement  horsepower    weight  acceleration  \\\n",
              "0  13.067503          8      5.030840       130.0  1.589386          12.0   \n",
              "1  15.681004          8      5.735485       165.0  1.675115          11.5   \n",
              "2  13.067503          8      5.211098       150.0  1.558542          11.0   \n",
              "3  14.700941          8      4.981678       150.0  1.557181          12.0   \n",
              "4  13.836180          8      4.948904       140.0  1.564439          10.5   \n",
              "\n",
              "   model_year  origin                       name  \n",
              "0          70       2  chevrolet chevelle malibu  \n",
              "1          70       2          buick skylark 320  \n",
              "2          70       2         plymouth satellite  \n",
              "3          70       2              amc rebel sst  \n",
              "4          70       2                ford torino  "
            ]
          },
          "execution_count": 14,
          "metadata": {},
          "output_type": "execute_result"
        }
      ],
      "source": [
        "from sklearn.preprocessing import LabelEncoder\n",
        "\n",
        "\n",
        "frame = sns.load_dataset('mpg')\n",
        "frame.dropna(inplace=True)\n",
        "\n",
        "frame['displacement'] *= 16.3871 / 1000\n",
        "frame['mpg'] = 100 / (frame.mpg * 1.60934 / 3.78541)\n",
        "frame['weight'] *= 0.453592 / 1000\n",
        "frame['origin'] = LabelEncoder().fit_transform(frame['origin'])\n",
        "\n",
        "frame.head()"
      ]
    },
    {
      "cell_type": "code",
      "execution_count": null,
      "metadata": {
        "id": "Y5rFJqZx3uPn"
      },
      "outputs": [],
      "source": [
        "X = frame.drop(columns=['mpg', 'name']).copy()\n",
        "y = frame.mpg.copy()"
      ]
    },
    {
      "cell_type": "code",
      "execution_count": null,
      "metadata": {
        "id": "Mf02qpFQ3uPn",
        "outputId": "4024e09a-075f-4e93-f7d2-c42f468b60f9"
      },
      "outputs": [
        {
          "name": "stdout",
          "output_type": "stream",
          "text": [
            "Fit: (313,)\n",
            "Test: (79,)\n"
          ]
        }
      ],
      "source": [
        "from sklearn.model_selection import train_test_split\n",
        "\n",
        "\n",
        "X_fit, X_test, y_fit, y_test = train_test_split(X, y, test_size=0.2, random_state=42)\n",
        "\n",
        "print('Fit:', y_fit.shape)\n",
        "print('Test:', y_test.shape)"
      ]
    },
    {
      "cell_type": "code",
      "execution_count": null,
      "metadata": {
        "id": "feouXJhd3uPn",
        "outputId": "b05e7092-30b1-439f-f7ef-a320eac2a2e4"
      },
      "outputs": [
        {
          "data": {
            "text/html": [
              "<div>\n",
              "<style scoped>\n",
              "    .dataframe tbody tr th:only-of-type {\n",
              "        vertical-align: middle;\n",
              "    }\n",
              "\n",
              "    .dataframe tbody tr th {\n",
              "        vertical-align: top;\n",
              "    }\n",
              "\n",
              "    .dataframe thead th {\n",
              "        text-align: right;\n",
              "    }\n",
              "</style>\n",
              "<table border=\"1\" class=\"dataframe\">\n",
              "  <thead>\n",
              "    <tr style=\"text-align: right;\">\n",
              "      <th></th>\n",
              "      <th>cylinders</th>\n",
              "      <th>displacement</th>\n",
              "      <th>horsepower</th>\n",
              "      <th>weight</th>\n",
              "      <th>acceleration</th>\n",
              "      <th>model_year</th>\n",
              "      <th>origin</th>\n",
              "    </tr>\n",
              "  </thead>\n",
              "  <tbody>\n",
              "    <tr>\n",
              "      <th>0</th>\n",
              "      <td>8</td>\n",
              "      <td>5.030840</td>\n",
              "      <td>130.0</td>\n",
              "      <td>1.589386</td>\n",
              "      <td>12.0</td>\n",
              "      <td>70</td>\n",
              "      <td>2</td>\n",
              "    </tr>\n",
              "    <tr>\n",
              "      <th>1</th>\n",
              "      <td>8</td>\n",
              "      <td>5.735485</td>\n",
              "      <td>165.0</td>\n",
              "      <td>1.675115</td>\n",
              "      <td>11.5</td>\n",
              "      <td>70</td>\n",
              "      <td>2</td>\n",
              "    </tr>\n",
              "    <tr>\n",
              "      <th>2</th>\n",
              "      <td>8</td>\n",
              "      <td>5.211098</td>\n",
              "      <td>150.0</td>\n",
              "      <td>1.558542</td>\n",
              "      <td>11.0</td>\n",
              "      <td>70</td>\n",
              "      <td>2</td>\n",
              "    </tr>\n",
              "    <tr>\n",
              "      <th>3</th>\n",
              "      <td>8</td>\n",
              "      <td>4.981678</td>\n",
              "      <td>150.0</td>\n",
              "      <td>1.557181</td>\n",
              "      <td>12.0</td>\n",
              "      <td>70</td>\n",
              "      <td>2</td>\n",
              "    </tr>\n",
              "    <tr>\n",
              "      <th>4</th>\n",
              "      <td>8</td>\n",
              "      <td>4.948904</td>\n",
              "      <td>140.0</td>\n",
              "      <td>1.564439</td>\n",
              "      <td>10.5</td>\n",
              "      <td>70</td>\n",
              "      <td>2</td>\n",
              "    </tr>\n",
              "  </tbody>\n",
              "</table>\n",
              "</div>"
            ],
            "text/plain": [
              "   cylinders  displacement  horsepower    weight  acceleration  model_year  \\\n",
              "0          8      5.030840       130.0  1.589386          12.0          70   \n",
              "1          8      5.735485       165.0  1.675115          11.5          70   \n",
              "2          8      5.211098       150.0  1.558542          11.0          70   \n",
              "3          8      4.981678       150.0  1.557181          12.0          70   \n",
              "4          8      4.948904       140.0  1.564439          10.5          70   \n",
              "\n",
              "   origin  \n",
              "0       2  \n",
              "1       2  \n",
              "2       2  \n",
              "3       2  \n",
              "4       2  "
            ]
          },
          "execution_count": 17,
          "metadata": {},
          "output_type": "execute_result"
        }
      ],
      "source": [
        "X.head()"
      ]
    },
    {
      "cell_type": "code",
      "execution_count": null,
      "metadata": {
        "id": "1vV6Bac-3uPo",
        "outputId": "1ca73282-9bf6-4f08-eb15-d4f33ff60369"
      },
      "outputs": [
        {
          "name": "stdout",
          "output_type": "stream",
          "text": [
            "MAE:  0.9532266527580777\n",
            "MSE:  1.5490485152380127\n",
            "RMSE: 1.24460777566188\n",
            "MAPE: 0.08465757739413263\n",
            "R2:   0.8907564410581126\n",
            "\n",
            "CPU times: total: 391 ms\n",
            "Wall time: 926 ms\n"
          ]
        },
        {
          "data": {
            "text/plain": [
              "(0.9532266527580777,\n",
              " 1.5490485152380127,\n",
              " 1.24460777566188,\n",
              " 0.08465757739413263,\n",
              " 0.8907564410581126)"
            ]
          },
          "execution_count": 18,
          "metadata": {},
          "output_type": "execute_result"
        }
      ],
      "source": [
        "%%time\n",
        "from sklearn.linear_model import LassoCV\n",
        "from sklearn.preprocessing import OneHotEncoder, StandardScaler\n",
        "from sklearn.pipeline import Pipeline\n",
        "from sklearn.compose import ColumnTransformer\n",
        "from sklearn.model_selection import KFold\n",
        "\n",
        "\n",
        "num_features = ['displacement', 'horsepower', 'weight', 'acceleration', 'cylinders', 'model_year']\n",
        "cat_features = ['origin']\n",
        "\n",
        "transformer = ColumnTransformer([\n",
        "    ('onehot', OneHotEncoder(drop='first'), cat_features),\n",
        "    ('scaler', StandardScaler(), num_features)\n",
        "])\n",
        "\n",
        "estimator = LassoCV(n_alphas=64, precompute=True, \n",
        "                    cv=KFold(10, shuffle=True, random_state=42), \n",
        "                    random_state=42, n_jobs=1)\n",
        "model_lasso = Pipeline([\n",
        "    ('transformer', transformer),\n",
        "    ('lasso', estimator)\n",
        "], verbose=0)\n",
        "model_lasso.fit(X_fit, y_fit)\n",
        "regression_metrics(y_test, model_lasso.predict(X_test), verbose=True);"
      ]
    },
    {
      "cell_type": "code",
      "execution_count": null,
      "metadata": {
        "id": "n9k__jiq3uPo",
        "outputId": "03f72464-b190-47eb-9ec7-4164e89892bf"
      },
      "outputs": [
        {
          "data": {
            "text/html": [
              "<style>#sk-container-id-1 {color: black;background-color: white;}#sk-container-id-1 pre{padding: 0;}#sk-container-id-1 div.sk-toggleable {background-color: white;}#sk-container-id-1 label.sk-toggleable__label {cursor: pointer;display: block;width: 100%;margin-bottom: 0;padding: 0.3em;box-sizing: border-box;text-align: center;}#sk-container-id-1 label.sk-toggleable__label-arrow:before {content: \"▸\";float: left;margin-right: 0.25em;color: #696969;}#sk-container-id-1 label.sk-toggleable__label-arrow:hover:before {color: black;}#sk-container-id-1 div.sk-estimator:hover label.sk-toggleable__label-arrow:before {color: black;}#sk-container-id-1 div.sk-toggleable__content {max-height: 0;max-width: 0;overflow: hidden;text-align: left;background-color: #f0f8ff;}#sk-container-id-1 div.sk-toggleable__content pre {margin: 0.2em;color: black;border-radius: 0.25em;background-color: #f0f8ff;}#sk-container-id-1 input.sk-toggleable__control:checked~div.sk-toggleable__content {max-height: 200px;max-width: 100%;overflow: auto;}#sk-container-id-1 input.sk-toggleable__control:checked~label.sk-toggleable__label-arrow:before {content: \"▾\";}#sk-container-id-1 div.sk-estimator input.sk-toggleable__control:checked~label.sk-toggleable__label {background-color: #d4ebff;}#sk-container-id-1 div.sk-label input.sk-toggleable__control:checked~label.sk-toggleable__label {background-color: #d4ebff;}#sk-container-id-1 input.sk-hidden--visually {border: 0;clip: rect(1px 1px 1px 1px);clip: rect(1px, 1px, 1px, 1px);height: 1px;margin: -1px;overflow: hidden;padding: 0;position: absolute;width: 1px;}#sk-container-id-1 div.sk-estimator {font-family: monospace;background-color: #f0f8ff;border: 1px dotted black;border-radius: 0.25em;box-sizing: border-box;margin-bottom: 0.5em;}#sk-container-id-1 div.sk-estimator:hover {background-color: #d4ebff;}#sk-container-id-1 div.sk-parallel-item::after {content: \"\";width: 100%;border-bottom: 1px solid gray;flex-grow: 1;}#sk-container-id-1 div.sk-label:hover label.sk-toggleable__label {background-color: #d4ebff;}#sk-container-id-1 div.sk-serial::before {content: \"\";position: absolute;border-left: 1px solid gray;box-sizing: border-box;top: 0;bottom: 0;left: 50%;z-index: 0;}#sk-container-id-1 div.sk-serial {display: flex;flex-direction: column;align-items: center;background-color: white;padding-right: 0.2em;padding-left: 0.2em;position: relative;}#sk-container-id-1 div.sk-item {position: relative;z-index: 1;}#sk-container-id-1 div.sk-parallel {display: flex;align-items: stretch;justify-content: center;background-color: white;position: relative;}#sk-container-id-1 div.sk-item::before, #sk-container-id-1 div.sk-parallel-item::before {content: \"\";position: absolute;border-left: 1px solid gray;box-sizing: border-box;top: 0;bottom: 0;left: 50%;z-index: -1;}#sk-container-id-1 div.sk-parallel-item {display: flex;flex-direction: column;z-index: 1;position: relative;background-color: white;}#sk-container-id-1 div.sk-parallel-item:first-child::after {align-self: flex-end;width: 50%;}#sk-container-id-1 div.sk-parallel-item:last-child::after {align-self: flex-start;width: 50%;}#sk-container-id-1 div.sk-parallel-item:only-child::after {width: 0;}#sk-container-id-1 div.sk-dashed-wrapped {border: 1px dashed gray;margin: 0 0.4em 0.5em 0.4em;box-sizing: border-box;padding-bottom: 0.4em;background-color: white;}#sk-container-id-1 div.sk-label label {font-family: monospace;font-weight: bold;display: inline-block;line-height: 1.2em;}#sk-container-id-1 div.sk-label-container {text-align: center;}#sk-container-id-1 div.sk-container {/* jupyter's `normalize.less` sets `[hidden] { display: none; }` but bootstrap.min.css set `[hidden] { display: none !important; }` so we also need the `!important` here to be able to override the default hidden behavior on the sphinx rendered scikit-learn.org. See: https://github.com/scikit-learn/scikit-learn/issues/21755 */display: inline-block !important;position: relative;}#sk-container-id-1 div.sk-text-repr-fallback {display: none;}</style><div id=\"sk-container-id-1\" class=\"sk-top-container\"><div class=\"sk-text-repr-fallback\"><pre>Pipeline(steps=[(&#x27;transformer&#x27;,\n",
              "                 ColumnTransformer(transformers=[(&#x27;onehot&#x27;,\n",
              "                                                  OneHotEncoder(drop=&#x27;first&#x27;),\n",
              "                                                  [&#x27;origin&#x27;]),\n",
              "                                                 (&#x27;scaler&#x27;, StandardScaler(),\n",
              "                                                  [&#x27;displacement&#x27;, &#x27;horsepower&#x27;,\n",
              "                                                   &#x27;weight&#x27;, &#x27;acceleration&#x27;,\n",
              "                                                   &#x27;cylinders&#x27;,\n",
              "                                                   &#x27;model_year&#x27;])])),\n",
              "                (&#x27;svr&#x27;, SVR(C=215.44346900318823, gamma=0.02682695795279726))],\n",
              "         verbose=0)</pre><b>In a Jupyter environment, please rerun this cell to show the HTML representation or trust the notebook. <br />On GitHub, the HTML representation is unable to render, please try loading this page with nbviewer.org.</b></div><div class=\"sk-container\" hidden><div class=\"sk-item sk-dashed-wrapped\"><div class=\"sk-label-container\"><div class=\"sk-label sk-toggleable\"><input class=\"sk-toggleable__control sk-hidden--visually\" id=\"sk-estimator-id-1\" type=\"checkbox\" ><label for=\"sk-estimator-id-1\" class=\"sk-toggleable__label sk-toggleable__label-arrow\">Pipeline</label><div class=\"sk-toggleable__content\"><pre>Pipeline(steps=[(&#x27;transformer&#x27;,\n",
              "                 ColumnTransformer(transformers=[(&#x27;onehot&#x27;,\n",
              "                                                  OneHotEncoder(drop=&#x27;first&#x27;),\n",
              "                                                  [&#x27;origin&#x27;]),\n",
              "                                                 (&#x27;scaler&#x27;, StandardScaler(),\n",
              "                                                  [&#x27;displacement&#x27;, &#x27;horsepower&#x27;,\n",
              "                                                   &#x27;weight&#x27;, &#x27;acceleration&#x27;,\n",
              "                                                   &#x27;cylinders&#x27;,\n",
              "                                                   &#x27;model_year&#x27;])])),\n",
              "                (&#x27;svr&#x27;, SVR(C=215.44346900318823, gamma=0.02682695795279726))],\n",
              "         verbose=0)</pre></div></div></div><div class=\"sk-serial\"><div class=\"sk-item sk-dashed-wrapped\"><div class=\"sk-label-container\"><div class=\"sk-label sk-toggleable\"><input class=\"sk-toggleable__control sk-hidden--visually\" id=\"sk-estimator-id-2\" type=\"checkbox\" ><label for=\"sk-estimator-id-2\" class=\"sk-toggleable__label sk-toggleable__label-arrow\">transformer: ColumnTransformer</label><div class=\"sk-toggleable__content\"><pre>ColumnTransformer(transformers=[(&#x27;onehot&#x27;, OneHotEncoder(drop=&#x27;first&#x27;),\n",
              "                                 [&#x27;origin&#x27;]),\n",
              "                                (&#x27;scaler&#x27;, StandardScaler(),\n",
              "                                 [&#x27;displacement&#x27;, &#x27;horsepower&#x27;, &#x27;weight&#x27;,\n",
              "                                  &#x27;acceleration&#x27;, &#x27;cylinders&#x27;, &#x27;model_year&#x27;])])</pre></div></div></div><div class=\"sk-parallel\"><div class=\"sk-parallel-item\"><div class=\"sk-item\"><div class=\"sk-label-container\"><div class=\"sk-label sk-toggleable\"><input class=\"sk-toggleable__control sk-hidden--visually\" id=\"sk-estimator-id-3\" type=\"checkbox\" ><label for=\"sk-estimator-id-3\" class=\"sk-toggleable__label sk-toggleable__label-arrow\">onehot</label><div class=\"sk-toggleable__content\"><pre>[&#x27;origin&#x27;]</pre></div></div></div><div class=\"sk-serial\"><div class=\"sk-item\"><div class=\"sk-estimator sk-toggleable\"><input class=\"sk-toggleable__control sk-hidden--visually\" id=\"sk-estimator-id-4\" type=\"checkbox\" ><label for=\"sk-estimator-id-4\" class=\"sk-toggleable__label sk-toggleable__label-arrow\">OneHotEncoder</label><div class=\"sk-toggleable__content\"><pre>OneHotEncoder(drop=&#x27;first&#x27;)</pre></div></div></div></div></div></div><div class=\"sk-parallel-item\"><div class=\"sk-item\"><div class=\"sk-label-container\"><div class=\"sk-label sk-toggleable\"><input class=\"sk-toggleable__control sk-hidden--visually\" id=\"sk-estimator-id-5\" type=\"checkbox\" ><label for=\"sk-estimator-id-5\" class=\"sk-toggleable__label sk-toggleable__label-arrow\">scaler</label><div class=\"sk-toggleable__content\"><pre>[&#x27;displacement&#x27;, &#x27;horsepower&#x27;, &#x27;weight&#x27;, &#x27;acceleration&#x27;, &#x27;cylinders&#x27;, &#x27;model_year&#x27;]</pre></div></div></div><div class=\"sk-serial\"><div class=\"sk-item\"><div class=\"sk-estimator sk-toggleable\"><input class=\"sk-toggleable__control sk-hidden--visually\" id=\"sk-estimator-id-6\" type=\"checkbox\" ><label for=\"sk-estimator-id-6\" class=\"sk-toggleable__label sk-toggleable__label-arrow\">StandardScaler</label><div class=\"sk-toggleable__content\"><pre>StandardScaler()</pre></div></div></div></div></div></div></div></div><div class=\"sk-item\"><div class=\"sk-estimator sk-toggleable\"><input class=\"sk-toggleable__control sk-hidden--visually\" id=\"sk-estimator-id-7\" type=\"checkbox\" ><label for=\"sk-estimator-id-7\" class=\"sk-toggleable__label sk-toggleable__label-arrow\">SVR</label><div class=\"sk-toggleable__content\"><pre>SVR(C=215.44346900318823, gamma=0.02682695795279726)</pre></div></div></div></div></div></div></div>"
            ],
            "text/plain": [
              "Pipeline(steps=[('transformer',\n",
              "                 ColumnTransformer(transformers=[('onehot',\n",
              "                                                  OneHotEncoder(drop='first'),\n",
              "                                                  ['origin']),\n",
              "                                                 ('scaler', StandardScaler(),\n",
              "                                                  ['displacement', 'horsepower',\n",
              "                                                   'weight', 'acceleration',\n",
              "                                                   'cylinders',\n",
              "                                                   'model_year'])])),\n",
              "                ('svr', SVR(C=215.44346900318823, gamma=0.02682695795279726))],\n",
              "         verbose=0)"
            ]
          },
          "metadata": {},
          "output_type": "display_data"
        },
        {
          "name": "stdout",
          "output_type": "stream",
          "text": [
            "MAE:  0.7945378649417608\n",
            "MSE:  1.1051084836639145\n",
            "RMSE: 1.0512414012318552\n",
            "MAPE: 0.07296276043920989\n",
            "R2:   0.9220644269144992\n",
            "\n",
            "CPU times: total: 5.44 s\n",
            "Wall time: 3min 1s\n"
          ]
        },
        {
          "data": {
            "text/plain": [
              "(0.7945378649417608,\n",
              " 1.1051084836639145,\n",
              " 1.0512414012318552,\n",
              " 0.07296276043920989,\n",
              " 0.9220644269144992)"
            ]
          },
          "execution_count": 19,
          "metadata": {},
          "output_type": "execute_result"
        }
      ],
      "source": [
        "%%time\n",
        "from sklearn.svm import SVR\n",
        "from sklearn.model_selection import GridSearchCV\n",
        "\n",
        "\n",
        "transformer = ColumnTransformer([\n",
        "    ('onehot', OneHotEncoder(drop='first'), cat_features),\n",
        "    ('scaler', StandardScaler(), num_features)\n",
        "])\n",
        "estimator = SVR(C=1.0)\n",
        "svr = Pipeline([\n",
        "    ('transformer', transformer),\n",
        "    ('svr', estimator)\n",
        "], verbose=0)\n",
        "model_svr = GridSearchCV(svr, {\n",
        "        'svr__kernel': ('rbf', 'sigmoid', 'linear'),\n",
        "        'svr__gamma': np.logspace(-3, 2, 8),\n",
        "        'svr__C': np.logspace(1, 3, 4),\n",
        "    }, verbose=0, n_jobs=-1,\n",
        "    cv=KFold(10, shuffle=True, random_state=42)\n",
        ")\n",
        "model_svr.fit(X_fit, y_fit)\n",
        "display(model_svr.best_estimator_)\n",
        "regression_metrics(y_test, model_svr.predict(X_test), verbose=True);"
      ]
    },
    {
      "cell_type": "code",
      "execution_count": null,
      "metadata": {
        "id": "CNbcOtef3uPp",
        "outputId": "c28f5a6d-2cb2-42c1-8086-69613f31812c"
      },
      "outputs": [
        {
          "data": {
            "text/html": [
              "<style>#sk-container-id-2 {color: black;background-color: white;}#sk-container-id-2 pre{padding: 0;}#sk-container-id-2 div.sk-toggleable {background-color: white;}#sk-container-id-2 label.sk-toggleable__label {cursor: pointer;display: block;width: 100%;margin-bottom: 0;padding: 0.3em;box-sizing: border-box;text-align: center;}#sk-container-id-2 label.sk-toggleable__label-arrow:before {content: \"▸\";float: left;margin-right: 0.25em;color: #696969;}#sk-container-id-2 label.sk-toggleable__label-arrow:hover:before {color: black;}#sk-container-id-2 div.sk-estimator:hover label.sk-toggleable__label-arrow:before {color: black;}#sk-container-id-2 div.sk-toggleable__content {max-height: 0;max-width: 0;overflow: hidden;text-align: left;background-color: #f0f8ff;}#sk-container-id-2 div.sk-toggleable__content pre {margin: 0.2em;color: black;border-radius: 0.25em;background-color: #f0f8ff;}#sk-container-id-2 input.sk-toggleable__control:checked~div.sk-toggleable__content {max-height: 200px;max-width: 100%;overflow: auto;}#sk-container-id-2 input.sk-toggleable__control:checked~label.sk-toggleable__label-arrow:before {content: \"▾\";}#sk-container-id-2 div.sk-estimator input.sk-toggleable__control:checked~label.sk-toggleable__label {background-color: #d4ebff;}#sk-container-id-2 div.sk-label input.sk-toggleable__control:checked~label.sk-toggleable__label {background-color: #d4ebff;}#sk-container-id-2 input.sk-hidden--visually {border: 0;clip: rect(1px 1px 1px 1px);clip: rect(1px, 1px, 1px, 1px);height: 1px;margin: -1px;overflow: hidden;padding: 0;position: absolute;width: 1px;}#sk-container-id-2 div.sk-estimator {font-family: monospace;background-color: #f0f8ff;border: 1px dotted black;border-radius: 0.25em;box-sizing: border-box;margin-bottom: 0.5em;}#sk-container-id-2 div.sk-estimator:hover {background-color: #d4ebff;}#sk-container-id-2 div.sk-parallel-item::after {content: \"\";width: 100%;border-bottom: 1px solid gray;flex-grow: 1;}#sk-container-id-2 div.sk-label:hover label.sk-toggleable__label {background-color: #d4ebff;}#sk-container-id-2 div.sk-serial::before {content: \"\";position: absolute;border-left: 1px solid gray;box-sizing: border-box;top: 0;bottom: 0;left: 50%;z-index: 0;}#sk-container-id-2 div.sk-serial {display: flex;flex-direction: column;align-items: center;background-color: white;padding-right: 0.2em;padding-left: 0.2em;position: relative;}#sk-container-id-2 div.sk-item {position: relative;z-index: 1;}#sk-container-id-2 div.sk-parallel {display: flex;align-items: stretch;justify-content: center;background-color: white;position: relative;}#sk-container-id-2 div.sk-item::before, #sk-container-id-2 div.sk-parallel-item::before {content: \"\";position: absolute;border-left: 1px solid gray;box-sizing: border-box;top: 0;bottom: 0;left: 50%;z-index: -1;}#sk-container-id-2 div.sk-parallel-item {display: flex;flex-direction: column;z-index: 1;position: relative;background-color: white;}#sk-container-id-2 div.sk-parallel-item:first-child::after {align-self: flex-end;width: 50%;}#sk-container-id-2 div.sk-parallel-item:last-child::after {align-self: flex-start;width: 50%;}#sk-container-id-2 div.sk-parallel-item:only-child::after {width: 0;}#sk-container-id-2 div.sk-dashed-wrapped {border: 1px dashed gray;margin: 0 0.4em 0.5em 0.4em;box-sizing: border-box;padding-bottom: 0.4em;background-color: white;}#sk-container-id-2 div.sk-label label {font-family: monospace;font-weight: bold;display: inline-block;line-height: 1.2em;}#sk-container-id-2 div.sk-label-container {text-align: center;}#sk-container-id-2 div.sk-container {/* jupyter's `normalize.less` sets `[hidden] { display: none; }` but bootstrap.min.css set `[hidden] { display: none !important; }` so we also need the `!important` here to be able to override the default hidden behavior on the sphinx rendered scikit-learn.org. See: https://github.com/scikit-learn/scikit-learn/issues/21755 */display: inline-block !important;position: relative;}#sk-container-id-2 div.sk-text-repr-fallback {display: none;}</style><div id=\"sk-container-id-2\" class=\"sk-top-container\"><div class=\"sk-text-repr-fallback\"><pre>DecisionTreeRegressor(max_depth=5, random_state=42)</pre><b>In a Jupyter environment, please rerun this cell to show the HTML representation or trust the notebook. <br />On GitHub, the HTML representation is unable to render, please try loading this page with nbviewer.org.</b></div><div class=\"sk-container\" hidden><div class=\"sk-item\"><div class=\"sk-estimator sk-toggleable\"><input class=\"sk-toggleable__control sk-hidden--visually\" id=\"sk-estimator-id-8\" type=\"checkbox\" checked><label for=\"sk-estimator-id-8\" class=\"sk-toggleable__label sk-toggleable__label-arrow\">DecisionTreeRegressor</label><div class=\"sk-toggleable__content\"><pre>DecisionTreeRegressor(max_depth=5, random_state=42)</pre></div></div></div></div></div>"
            ],
            "text/plain": [
              "DecisionTreeRegressor(max_depth=5, random_state=42)"
            ]
          },
          "metadata": {},
          "output_type": "display_data"
        },
        {
          "name": "stdout",
          "output_type": "stream",
          "text": [
            "MAE:  1.1502366074816843\n",
            "MSE:  2.27634965314718\n",
            "RMSE: 1.508757652224896\n",
            "MAPE: 0.10076744158164772\n",
            "R2:   0.8394649779786145\n",
            "\n",
            "CPU times: total: 516 ms\n",
            "Wall time: 2.28 s\n"
          ]
        },
        {
          "data": {
            "text/plain": [
              "(1.1502366074816843,\n",
              " 2.27634965314718,\n",
              " 1.508757652224896,\n",
              " 0.10076744158164772,\n",
              " 0.8394649779786145)"
            ]
          },
          "execution_count": 20,
          "metadata": {},
          "output_type": "execute_result"
        }
      ],
      "source": [
        "%%time\n",
        "from sklearn.tree import DecisionTreeRegressor\n",
        "\n",
        "\n",
        "tree = DecisionTreeRegressor(random_state=42)\n",
        "model_tree = GridSearchCV(tree, dict(\n",
        "        max_depth=(2, 5, 10, 20, 30),\n",
        "        min_samples_leaf=(1, 5, 10, 15, 20),\n",
        "    ), verbose=0, n_jobs=-1,\n",
        "    cv=KFold(10, shuffle=True, random_state=42)\n",
        ")\n",
        "model_tree.fit(X_fit, y_fit)\n",
        "display(model_tree.best_estimator_)\n",
        "\n",
        "regression_metrics(y_test, model_tree.predict(X_test), verbose=True);"
      ]
    },
    {
      "cell_type": "code",
      "execution_count": null,
      "metadata": {
        "id": "udfDUYRE3uPp",
        "outputId": "e731c954-7d8f-4278-de03-54126facf8c6"
      },
      "outputs": [
        {
          "ename": "ValueError",
          "evalue": "\nAll the 480 fits failed.\nIt is very likely that your model is misconfigured.\nYou can try to debug the error by setting error_score='raise'.\n\nBelow are more details about the failures:\n--------------------------------------------------------------------------------\n117 fits failed with the following error:\nTraceback (most recent call last):\n  File \"C:\\Users\\Administrator\\AppData\\Local\\Programs\\Python\\Python310\\lib\\site-packages\\sklearn\\model_selection\\_validation.py\", line 686, in _fit_and_score\n    estimator.fit(X_train, y_train, **fit_params)\n  File \"C:\\Users\\Administrator\\AppData\\Local\\Programs\\Python\\Python310\\lib\\site-packages\\sklearn\\ensemble\\_forest.py\", line 340, in fit\n    self._validate_params()\n  File \"C:\\Users\\Administrator\\AppData\\Local\\Programs\\Python\\Python310\\lib\\site-packages\\sklearn\\base.py\", line 581, in _validate_params\n    validate_parameter_constraints(\n  File \"C:\\Users\\Administrator\\AppData\\Local\\Programs\\Python\\Python310\\lib\\site-packages\\sklearn\\utils\\_param_validation.py\", line 97, in validate_parameter_constraints\n    raise InvalidParameterError(\nsklearn.utils._param_validation.InvalidParameterError: The 'criterion' parameter of RandomForestRegressor must be a str among {'friedman_mse', 'poisson', 'squared_error', 'absolute_error'}. Got 'mse' instead.\n\n--------------------------------------------------------------------------------\n115 fits failed with the following error:\nTraceback (most recent call last):\n  File \"C:\\Users\\Administrator\\AppData\\Local\\Programs\\Python\\Python310\\lib\\site-packages\\sklearn\\model_selection\\_validation.py\", line 686, in _fit_and_score\n    estimator.fit(X_train, y_train, **fit_params)\n  File \"C:\\Users\\Administrator\\AppData\\Local\\Programs\\Python\\Python310\\lib\\site-packages\\sklearn\\ensemble\\_forest.py\", line 340, in fit\n    self._validate_params()\n  File \"C:\\Users\\Administrator\\AppData\\Local\\Programs\\Python\\Python310\\lib\\site-packages\\sklearn\\base.py\", line 581, in _validate_params\n    validate_parameter_constraints(\n  File \"C:\\Users\\Administrator\\AppData\\Local\\Programs\\Python\\Python310\\lib\\site-packages\\sklearn\\utils\\_param_validation.py\", line 97, in validate_parameter_constraints\n    raise InvalidParameterError(\nsklearn.utils._param_validation.InvalidParameterError: The 'criterion' parameter of RandomForestRegressor must be a str among {'poisson', 'absolute_error', 'friedman_mse', 'squared_error'}. Got 'mse' instead.\n\n--------------------------------------------------------------------------------\n115 fits failed with the following error:\nTraceback (most recent call last):\n  File \"C:\\Users\\Administrator\\AppData\\Local\\Programs\\Python\\Python310\\lib\\site-packages\\sklearn\\model_selection\\_validation.py\", line 686, in _fit_and_score\n    estimator.fit(X_train, y_train, **fit_params)\n  File \"C:\\Users\\Administrator\\AppData\\Local\\Programs\\Python\\Python310\\lib\\site-packages\\sklearn\\ensemble\\_forest.py\", line 340, in fit\n    self._validate_params()\n  File \"C:\\Users\\Administrator\\AppData\\Local\\Programs\\Python\\Python310\\lib\\site-packages\\sklearn\\base.py\", line 581, in _validate_params\n    validate_parameter_constraints(\n  File \"C:\\Users\\Administrator\\AppData\\Local\\Programs\\Python\\Python310\\lib\\site-packages\\sklearn\\utils\\_param_validation.py\", line 97, in validate_parameter_constraints\n    raise InvalidParameterError(\nsklearn.utils._param_validation.InvalidParameterError: The 'criterion' parameter of RandomForestRegressor must be a str among {'absolute_error', 'friedman_mse', 'squared_error', 'poisson'}. Got 'mse' instead.\n\n--------------------------------------------------------------------------------\n133 fits failed with the following error:\nTraceback (most recent call last):\n  File \"C:\\Users\\Administrator\\AppData\\Local\\Programs\\Python\\Python310\\lib\\site-packages\\sklearn\\model_selection\\_validation.py\", line 686, in _fit_and_score\n    estimator.fit(X_train, y_train, **fit_params)\n  File \"C:\\Users\\Administrator\\AppData\\Local\\Programs\\Python\\Python310\\lib\\site-packages\\sklearn\\ensemble\\_forest.py\", line 340, in fit\n    self._validate_params()\n  File \"C:\\Users\\Administrator\\AppData\\Local\\Programs\\Python\\Python310\\lib\\site-packages\\sklearn\\base.py\", line 581, in _validate_params\n    validate_parameter_constraints(\n  File \"C:\\Users\\Administrator\\AppData\\Local\\Programs\\Python\\Python310\\lib\\site-packages\\sklearn\\utils\\_param_validation.py\", line 97, in validate_parameter_constraints\n    raise InvalidParameterError(\nsklearn.utils._param_validation.InvalidParameterError: The 'criterion' parameter of RandomForestRegressor must be a str among {'squared_error', 'friedman_mse', 'poisson', 'absolute_error'}. Got 'mse' instead.\n",
          "output_type": "error",
          "traceback": [
            "\u001b[1;31m---------------------------------------------------------------------------\u001b[0m",
            "\u001b[1;31mValueError\u001b[0m                                Traceback (most recent call last)",
            "File \u001b[1;32m<timed exec>:17\u001b[0m, in \u001b[0;36m<module>\u001b[1;34m\u001b[0m\n",
            "File \u001b[1;32m~\\AppData\\Local\\Programs\\Python\\Python310\\lib\\site-packages\\sklearn\\model_selection\\_search.py:874\u001b[0m, in \u001b[0;36mBaseSearchCV.fit\u001b[1;34m(self, X, y, groups, **fit_params)\u001b[0m\n\u001b[0;32m    868\u001b[0m     results \u001b[38;5;241m=\u001b[39m \u001b[38;5;28mself\u001b[39m\u001b[38;5;241m.\u001b[39m_format_results(\n\u001b[0;32m    869\u001b[0m         all_candidate_params, n_splits, all_out, all_more_results\n\u001b[0;32m    870\u001b[0m     )\n\u001b[0;32m    872\u001b[0m     \u001b[38;5;28;01mreturn\u001b[39;00m results\n\u001b[1;32m--> 874\u001b[0m \u001b[38;5;28;43mself\u001b[39;49m\u001b[38;5;241;43m.\u001b[39;49m\u001b[43m_run_search\u001b[49m\u001b[43m(\u001b[49m\u001b[43mevaluate_candidates\u001b[49m\u001b[43m)\u001b[49m\n\u001b[0;32m    876\u001b[0m \u001b[38;5;66;03m# multimetric is determined here because in the case of a callable\u001b[39;00m\n\u001b[0;32m    877\u001b[0m \u001b[38;5;66;03m# self.scoring the return type is only known after calling\u001b[39;00m\n\u001b[0;32m    878\u001b[0m first_test_score \u001b[38;5;241m=\u001b[39m all_out[\u001b[38;5;241m0\u001b[39m][\u001b[38;5;124m\"\u001b[39m\u001b[38;5;124mtest_scores\u001b[39m\u001b[38;5;124m\"\u001b[39m]\n",
            "File \u001b[1;32m~\\AppData\\Local\\Programs\\Python\\Python310\\lib\\site-packages\\sklearn\\model_selection\\_search.py:1388\u001b[0m, in \u001b[0;36mGridSearchCV._run_search\u001b[1;34m(self, evaluate_candidates)\u001b[0m\n\u001b[0;32m   1386\u001b[0m \u001b[38;5;28;01mdef\u001b[39;00m \u001b[38;5;21m_run_search\u001b[39m(\u001b[38;5;28mself\u001b[39m, evaluate_candidates):\n\u001b[0;32m   1387\u001b[0m     \u001b[38;5;124;03m\"\"\"Search all candidates in param_grid\"\"\"\u001b[39;00m\n\u001b[1;32m-> 1388\u001b[0m     \u001b[43mevaluate_candidates\u001b[49m\u001b[43m(\u001b[49m\u001b[43mParameterGrid\u001b[49m\u001b[43m(\u001b[49m\u001b[38;5;28;43mself\u001b[39;49m\u001b[38;5;241;43m.\u001b[39;49m\u001b[43mparam_grid\u001b[49m\u001b[43m)\u001b[49m\u001b[43m)\u001b[49m\n",
            "File \u001b[1;32m~\\AppData\\Local\\Programs\\Python\\Python310\\lib\\site-packages\\sklearn\\model_selection\\_search.py:851\u001b[0m, in \u001b[0;36mBaseSearchCV.fit.<locals>.evaluate_candidates\u001b[1;34m(candidate_params, cv, more_results)\u001b[0m\n\u001b[0;32m    844\u001b[0m \u001b[38;5;28;01melif\u001b[39;00m \u001b[38;5;28mlen\u001b[39m(out) \u001b[38;5;241m!=\u001b[39m n_candidates \u001b[38;5;241m*\u001b[39m n_splits:\n\u001b[0;32m    845\u001b[0m     \u001b[38;5;28;01mraise\u001b[39;00m \u001b[38;5;167;01mValueError\u001b[39;00m(\n\u001b[0;32m    846\u001b[0m         \u001b[38;5;124m\"\u001b[39m\u001b[38;5;124mcv.split and cv.get_n_splits returned \u001b[39m\u001b[38;5;124m\"\u001b[39m\n\u001b[0;32m    847\u001b[0m         \u001b[38;5;124m\"\u001b[39m\u001b[38;5;124minconsistent results. Expected \u001b[39m\u001b[38;5;132;01m{}\u001b[39;00m\u001b[38;5;124m \u001b[39m\u001b[38;5;124m\"\u001b[39m\n\u001b[0;32m    848\u001b[0m         \u001b[38;5;124m\"\u001b[39m\u001b[38;5;124msplits, got \u001b[39m\u001b[38;5;132;01m{}\u001b[39;00m\u001b[38;5;124m\"\u001b[39m\u001b[38;5;241m.\u001b[39mformat(n_splits, \u001b[38;5;28mlen\u001b[39m(out) \u001b[38;5;241m/\u001b[39m\u001b[38;5;241m/\u001b[39m n_candidates)\n\u001b[0;32m    849\u001b[0m     )\n\u001b[1;32m--> 851\u001b[0m \u001b[43m_warn_or_raise_about_fit_failures\u001b[49m\u001b[43m(\u001b[49m\u001b[43mout\u001b[49m\u001b[43m,\u001b[49m\u001b[43m \u001b[49m\u001b[38;5;28;43mself\u001b[39;49m\u001b[38;5;241;43m.\u001b[39;49m\u001b[43merror_score\u001b[49m\u001b[43m)\u001b[49m\n\u001b[0;32m    853\u001b[0m \u001b[38;5;66;03m# For callable self.scoring, the return type is only know after\u001b[39;00m\n\u001b[0;32m    854\u001b[0m \u001b[38;5;66;03m# calling. If the return type is a dictionary, the error scores\u001b[39;00m\n\u001b[0;32m    855\u001b[0m \u001b[38;5;66;03m# can now be inserted with the correct key. The type checking\u001b[39;00m\n\u001b[0;32m    856\u001b[0m \u001b[38;5;66;03m# of out will be done in `_insert_error_scores`.\u001b[39;00m\n\u001b[0;32m    857\u001b[0m \u001b[38;5;28;01mif\u001b[39;00m callable(\u001b[38;5;28mself\u001b[39m\u001b[38;5;241m.\u001b[39mscoring):\n",
            "File \u001b[1;32m~\\AppData\\Local\\Programs\\Python\\Python310\\lib\\site-packages\\sklearn\\model_selection\\_validation.py:367\u001b[0m, in \u001b[0;36m_warn_or_raise_about_fit_failures\u001b[1;34m(results, error_score)\u001b[0m\n\u001b[0;32m    360\u001b[0m \u001b[38;5;28;01mif\u001b[39;00m num_failed_fits \u001b[38;5;241m==\u001b[39m num_fits:\n\u001b[0;32m    361\u001b[0m     all_fits_failed_message \u001b[38;5;241m=\u001b[39m (\n\u001b[0;32m    362\u001b[0m         \u001b[38;5;124mf\u001b[39m\u001b[38;5;124m\"\u001b[39m\u001b[38;5;130;01m\\n\u001b[39;00m\u001b[38;5;124mAll the \u001b[39m\u001b[38;5;132;01m{\u001b[39;00mnum_fits\u001b[38;5;132;01m}\u001b[39;00m\u001b[38;5;124m fits failed.\u001b[39m\u001b[38;5;130;01m\\n\u001b[39;00m\u001b[38;5;124m\"\u001b[39m\n\u001b[0;32m    363\u001b[0m         \u001b[38;5;124m\"\u001b[39m\u001b[38;5;124mIt is very likely that your model is misconfigured.\u001b[39m\u001b[38;5;130;01m\\n\u001b[39;00m\u001b[38;5;124m\"\u001b[39m\n\u001b[0;32m    364\u001b[0m         \u001b[38;5;124m\"\u001b[39m\u001b[38;5;124mYou can try to debug the error by setting error_score=\u001b[39m\u001b[38;5;124m'\u001b[39m\u001b[38;5;124mraise\u001b[39m\u001b[38;5;124m'\u001b[39m\u001b[38;5;124m.\u001b[39m\u001b[38;5;130;01m\\n\u001b[39;00m\u001b[38;5;130;01m\\n\u001b[39;00m\u001b[38;5;124m\"\u001b[39m\n\u001b[0;32m    365\u001b[0m         \u001b[38;5;124mf\u001b[39m\u001b[38;5;124m\"\u001b[39m\u001b[38;5;124mBelow are more details about the failures:\u001b[39m\u001b[38;5;130;01m\\n\u001b[39;00m\u001b[38;5;132;01m{\u001b[39;00mfit_errors_summary\u001b[38;5;132;01m}\u001b[39;00m\u001b[38;5;124m\"\u001b[39m\n\u001b[0;32m    366\u001b[0m     )\n\u001b[1;32m--> 367\u001b[0m     \u001b[38;5;28;01mraise\u001b[39;00m \u001b[38;5;167;01mValueError\u001b[39;00m(all_fits_failed_message)\n\u001b[0;32m    369\u001b[0m \u001b[38;5;28;01melse\u001b[39;00m:\n\u001b[0;32m    370\u001b[0m     some_fits_failed_message \u001b[38;5;241m=\u001b[39m (\n\u001b[0;32m    371\u001b[0m         \u001b[38;5;124mf\u001b[39m\u001b[38;5;124m\"\u001b[39m\u001b[38;5;130;01m\\n\u001b[39;00m\u001b[38;5;132;01m{\u001b[39;00mnum_failed_fits\u001b[38;5;132;01m}\u001b[39;00m\u001b[38;5;124m fits failed out of a total of \u001b[39m\u001b[38;5;132;01m{\u001b[39;00mnum_fits\u001b[38;5;132;01m}\u001b[39;00m\u001b[38;5;124m.\u001b[39m\u001b[38;5;130;01m\\n\u001b[39;00m\u001b[38;5;124m\"\u001b[39m\n\u001b[0;32m    372\u001b[0m         \u001b[38;5;124m\"\u001b[39m\u001b[38;5;124mThe score on these train-test partitions for these parameters\u001b[39m\u001b[38;5;124m\"\u001b[39m\n\u001b[1;32m   (...)\u001b[0m\n\u001b[0;32m    376\u001b[0m         \u001b[38;5;124mf\u001b[39m\u001b[38;5;124m\"\u001b[39m\u001b[38;5;124mBelow are more details about the failures:\u001b[39m\u001b[38;5;130;01m\\n\u001b[39;00m\u001b[38;5;132;01m{\u001b[39;00mfit_errors_summary\u001b[38;5;132;01m}\u001b[39;00m\u001b[38;5;124m\"\u001b[39m\n\u001b[0;32m    377\u001b[0m     )\n",
            "\u001b[1;31mValueError\u001b[0m: \nAll the 480 fits failed.\nIt is very likely that your model is misconfigured.\nYou can try to debug the error by setting error_score='raise'.\n\nBelow are more details about the failures:\n--------------------------------------------------------------------------------\n117 fits failed with the following error:\nTraceback (most recent call last):\n  File \"C:\\Users\\Administrator\\AppData\\Local\\Programs\\Python\\Python310\\lib\\site-packages\\sklearn\\model_selection\\_validation.py\", line 686, in _fit_and_score\n    estimator.fit(X_train, y_train, **fit_params)\n  File \"C:\\Users\\Administrator\\AppData\\Local\\Programs\\Python\\Python310\\lib\\site-packages\\sklearn\\ensemble\\_forest.py\", line 340, in fit\n    self._validate_params()\n  File \"C:\\Users\\Administrator\\AppData\\Local\\Programs\\Python\\Python310\\lib\\site-packages\\sklearn\\base.py\", line 581, in _validate_params\n    validate_parameter_constraints(\n  File \"C:\\Users\\Administrator\\AppData\\Local\\Programs\\Python\\Python310\\lib\\site-packages\\sklearn\\utils\\_param_validation.py\", line 97, in validate_parameter_constraints\n    raise InvalidParameterError(\nsklearn.utils._param_validation.InvalidParameterError: The 'criterion' parameter of RandomForestRegressor must be a str among {'friedman_mse', 'poisson', 'squared_error', 'absolute_error'}. Got 'mse' instead.\n\n--------------------------------------------------------------------------------\n115 fits failed with the following error:\nTraceback (most recent call last):\n  File \"C:\\Users\\Administrator\\AppData\\Local\\Programs\\Python\\Python310\\lib\\site-packages\\sklearn\\model_selection\\_validation.py\", line 686, in _fit_and_score\n    estimator.fit(X_train, y_train, **fit_params)\n  File \"C:\\Users\\Administrator\\AppData\\Local\\Programs\\Python\\Python310\\lib\\site-packages\\sklearn\\ensemble\\_forest.py\", line 340, in fit\n    self._validate_params()\n  File \"C:\\Users\\Administrator\\AppData\\Local\\Programs\\Python\\Python310\\lib\\site-packages\\sklearn\\base.py\", line 581, in _validate_params\n    validate_parameter_constraints(\n  File \"C:\\Users\\Administrator\\AppData\\Local\\Programs\\Python\\Python310\\lib\\site-packages\\sklearn\\utils\\_param_validation.py\", line 97, in validate_parameter_constraints\n    raise InvalidParameterError(\nsklearn.utils._param_validation.InvalidParameterError: The 'criterion' parameter of RandomForestRegressor must be a str among {'poisson', 'absolute_error', 'friedman_mse', 'squared_error'}. Got 'mse' instead.\n\n--------------------------------------------------------------------------------\n115 fits failed with the following error:\nTraceback (most recent call last):\n  File \"C:\\Users\\Administrator\\AppData\\Local\\Programs\\Python\\Python310\\lib\\site-packages\\sklearn\\model_selection\\_validation.py\", line 686, in _fit_and_score\n    estimator.fit(X_train, y_train, **fit_params)\n  File \"C:\\Users\\Administrator\\AppData\\Local\\Programs\\Python\\Python310\\lib\\site-packages\\sklearn\\ensemble\\_forest.py\", line 340, in fit\n    self._validate_params()\n  File \"C:\\Users\\Administrator\\AppData\\Local\\Programs\\Python\\Python310\\lib\\site-packages\\sklearn\\base.py\", line 581, in _validate_params\n    validate_parameter_constraints(\n  File \"C:\\Users\\Administrator\\AppData\\Local\\Programs\\Python\\Python310\\lib\\site-packages\\sklearn\\utils\\_param_validation.py\", line 97, in validate_parameter_constraints\n    raise InvalidParameterError(\nsklearn.utils._param_validation.InvalidParameterError: The 'criterion' parameter of RandomForestRegressor must be a str among {'absolute_error', 'friedman_mse', 'squared_error', 'poisson'}. Got 'mse' instead.\n\n--------------------------------------------------------------------------------\n133 fits failed with the following error:\nTraceback (most recent call last):\n  File \"C:\\Users\\Administrator\\AppData\\Local\\Programs\\Python\\Python310\\lib\\site-packages\\sklearn\\model_selection\\_validation.py\", line 686, in _fit_and_score\n    estimator.fit(X_train, y_train, **fit_params)\n  File \"C:\\Users\\Administrator\\AppData\\Local\\Programs\\Python\\Python310\\lib\\site-packages\\sklearn\\ensemble\\_forest.py\", line 340, in fit\n    self._validate_params()\n  File \"C:\\Users\\Administrator\\AppData\\Local\\Programs\\Python\\Python310\\lib\\site-packages\\sklearn\\base.py\", line 581, in _validate_params\n    validate_parameter_constraints(\n  File \"C:\\Users\\Administrator\\AppData\\Local\\Programs\\Python\\Python310\\lib\\site-packages\\sklearn\\utils\\_param_validation.py\", line 97, in validate_parameter_constraints\n    raise InvalidParameterError(\nsklearn.utils._param_validation.InvalidParameterError: The 'criterion' parameter of RandomForestRegressor must be a str among {'squared_error', 'friedman_mse', 'poisson', 'absolute_error'}. Got 'mse' instead.\n"
          ]
        }
      ],
      "source": [
        "%%time\n",
        "from sklearn.ensemble import RandomForestRegressor\n",
        "\n",
        "\n",
        "forest = RandomForestRegressor(\n",
        "    criterion='mse',\n",
        "    max_depth=3,\n",
        "    random_state=42,\n",
        "    n_jobs=1\n",
        ")\n",
        "model_forest = GridSearchCV(forest, dict(\n",
        "        n_estimators=(50, 100, 150),\n",
        "        max_depth=(5, 10, 20, 30),\n",
        "        min_samples_leaf=(1, 5, 10, 15),\n",
        "    ), verbose=0, n_jobs=-1,\n",
        "    cv=KFold(10, shuffle=True, random_state=42)\n",
        ")\n",
        "model_forest.fit(X_fit, y_fit)\n",
        "display(model_forest.best_estimator_)\n",
        "\n",
        "regression_metrics(y_test, model_forest.predict(X_test), verbose=True);"
      ]
    },
    {
      "cell_type": "markdown",
      "metadata": {
        "id": "jbEXmWJb3uPp"
      },
      "source": [
        "Пробуем стэкинг:"
      ]
    },
    {
      "cell_type": "raw",
      "metadata": {
        "id": "0FHmbumR3uPp"
      },
      "source": [
        "# Fit\n",
        "4-fold cv: 1234\n",
        "\n",
        "models.fit(123)\n",
        "preds4 = models.predict(4)\n",
        "\n",
        "models.fit(124)\n",
        "preds3 = model.predict(3)\n",
        "\n",
        "models.fit(134)\n",
        "preds2 = model.predict(2)\n",
        "\n",
        "models.fit(234)\n",
        "preds1 = model.predict(1)\n",
        "\n",
        "meta_X = np.concatenate([preds1, preds2, preds3, preds4])\n",
        "final_model.fit(meta_X)\n",
        "\n",
        "models.fit(1234)\n",
        "\n",
        "# Predict new data:\n",
        "meta_X_new = models.predict(X_new)\n",
        "final_model.predict(meta_X_new)"
      ]
    },
    {
      "cell_type": "code",
      "execution_count": null,
      "metadata": {
        "id": "jrIAvX1b3uPq",
        "outputId": "4939d9d9-7b66-4307-d20b-10c9e4988870"
      },
      "outputs": [
        {
          "name": "stderr",
          "output_type": "stream",
          "text": [
            "[Parallel(n_jobs=1)]: Using backend SequentialBackend with 1 concurrent workers.\n",
            "[Parallel(n_jobs=1)]: Done 313 out of 313 | elapsed:   43.5s finished\n",
            "[Parallel(n_jobs=1)]: Using backend SequentialBackend with 1 concurrent workers.\n",
            "[Parallel(n_jobs=1)]: Done 313 out of 313 | elapsed:    2.5s finished\n",
            "[Parallel(n_jobs=1)]: Using backend SequentialBackend with 1 concurrent workers.\n",
            "[Parallel(n_jobs=1)]: Done 313 out of 313 | elapsed:   14.3s finished\n",
            "[Parallel(n_jobs=1)]: Using backend SequentialBackend with 1 concurrent workers.\n"
          ]
        },
        {
          "name": "stdout",
          "output_type": "stream",
          "text": [
            "MAE:  0.7887804159428745\n",
            "MSE:  1.0844198556606202\n",
            "RMSE: 1.041354817370439\n",
            "MAPE: 0.07014841882182667\n",
            "R2:   0.9235234511674338\n",
            "\n",
            "CPU times: user 1min 9s, sys: 691 ms, total: 1min 10s\n",
            "Wall time: 1min 46s\n"
          ]
        },
        {
          "name": "stderr",
          "output_type": "stream",
          "text": [
            "[Parallel(n_jobs=1)]: Done 313 out of 313 | elapsed:   45.4s finished\n"
          ]
        },
        {
          "data": {
            "text/plain": [
              "(0.7887804159428745,\n",
              " 1.0844198556606202,\n",
              " 1.041354817370439,\n",
              " 0.07014841882182667,\n",
              " 0.9235234511674338)"
            ]
          },
          "execution_count": 42,
          "metadata": {},
          "output_type": "execute_result"
        }
      ],
      "source": [
        "%%time\n",
        "from sklearn.ensemble import StackingRegressor\n",
        "\n",
        "\n",
        "stacking = StackingRegressor([\n",
        "        ('lasso', model_lasso), \n",
        "        ('tree', model_tree.best_estimator_), \n",
        "        ('svr', model_svr.best_estimator_),\n",
        "        ('forest', model_forest.best_estimator_),\n",
        "    ], verbose=1, n_jobs=-1,\n",
        "    cv=KFold(313, shuffle=True, random_state=42)\n",
        ")\n",
        "stacking.fit(X_fit, y_fit)\n",
        "\n",
        "regression_metrics(y_test, stacking.predict(X_test), verbose=True);"
      ]
    },
    {
      "cell_type": "markdown",
      "metadata": {
        "id": "lAseGcNi3uPq"
      },
      "source": [
        "# 3. Bagging"
      ]
    },
    {
      "cell_type": "code",
      "execution_count": null,
      "metadata": {
        "id": "-sRl-CXu3uPq",
        "outputId": "7bcda3c1-377e-4c95-ab01-6c57f95ccd25"
      },
      "outputs": [
        {
          "name": "stdout",
          "output_type": "stream",
          "text": [
            "MAE:  0.8366039717297609\n",
            "MSE:  1.319320782504243\n",
            "RMSE: 1.1486168997991641\n",
            "MAPE: 0.07422744654452318\n",
            "R2:   0.9069575315111329\n",
            "\n",
            "CPU times: total: 266 ms\n",
            "Wall time: 660 ms\n"
          ]
        },
        {
          "data": {
            "text/plain": [
              "(0.8366039717297609,\n",
              " 1.319320782504243,\n",
              " 1.1486168997991641,\n",
              " 0.07422744654452318,\n",
              " 0.9069575315111329)"
            ]
          },
          "execution_count": 22,
          "metadata": {},
          "output_type": "execute_result"
        }
      ],
      "source": [
        "%%time\n",
        "from sklearn.ensemble import BaggingRegressor\n",
        "\n",
        "\n",
        "bagging = BaggingRegressor(\n",
        "    tree, \n",
        "    n_estimators=200, \n",
        "    bootstrap=True, \n",
        "    bootstrap_features=True, \n",
        "    n_jobs=-1, \n",
        "    random_state=42\n",
        ")\n",
        "bagging.fit(X_fit, y_fit)\n",
        "regression_metrics(y_test, bagging.predict(X_test), verbose=True);"
      ]
    },
    {
      "cell_type": "markdown",
      "metadata": {
        "id": "3ptfqgXk3uPr"
      },
      "source": [
        "# 4. Boosting"
      ]
    },
    {
      "cell_type": "code",
      "execution_count": null,
      "metadata": {
        "id": "eMCYebWS3uPr",
        "outputId": "7cb21492-dd64-4929-994f-84ffc9458971"
      },
      "outputs": [
        {
          "name": "stderr",
          "output_type": "stream",
          "text": [
            "C:\\Users\\Administrator\\AppData\\Local\\Programs\\Python\\Python310\\lib\\site-packages\\sklearn\\ensemble\\_base.py:166: FutureWarning: `base_estimator` was renamed to `estimator` in version 1.2 and will be removed in 1.4.\n",
            "  warnings.warn(\n"
          ]
        },
        {
          "data": {
            "text/html": [
              "<style>#sk-container-id-3 {color: black;background-color: white;}#sk-container-id-3 pre{padding: 0;}#sk-container-id-3 div.sk-toggleable {background-color: white;}#sk-container-id-3 label.sk-toggleable__label {cursor: pointer;display: block;width: 100%;margin-bottom: 0;padding: 0.3em;box-sizing: border-box;text-align: center;}#sk-container-id-3 label.sk-toggleable__label-arrow:before {content: \"▸\";float: left;margin-right: 0.25em;color: #696969;}#sk-container-id-3 label.sk-toggleable__label-arrow:hover:before {color: black;}#sk-container-id-3 div.sk-estimator:hover label.sk-toggleable__label-arrow:before {color: black;}#sk-container-id-3 div.sk-toggleable__content {max-height: 0;max-width: 0;overflow: hidden;text-align: left;background-color: #f0f8ff;}#sk-container-id-3 div.sk-toggleable__content pre {margin: 0.2em;color: black;border-radius: 0.25em;background-color: #f0f8ff;}#sk-container-id-3 input.sk-toggleable__control:checked~div.sk-toggleable__content {max-height: 200px;max-width: 100%;overflow: auto;}#sk-container-id-3 input.sk-toggleable__control:checked~label.sk-toggleable__label-arrow:before {content: \"▾\";}#sk-container-id-3 div.sk-estimator input.sk-toggleable__control:checked~label.sk-toggleable__label {background-color: #d4ebff;}#sk-container-id-3 div.sk-label input.sk-toggleable__control:checked~label.sk-toggleable__label {background-color: #d4ebff;}#sk-container-id-3 input.sk-hidden--visually {border: 0;clip: rect(1px 1px 1px 1px);clip: rect(1px, 1px, 1px, 1px);height: 1px;margin: -1px;overflow: hidden;padding: 0;position: absolute;width: 1px;}#sk-container-id-3 div.sk-estimator {font-family: monospace;background-color: #f0f8ff;border: 1px dotted black;border-radius: 0.25em;box-sizing: border-box;margin-bottom: 0.5em;}#sk-container-id-3 div.sk-estimator:hover {background-color: #d4ebff;}#sk-container-id-3 div.sk-parallel-item::after {content: \"\";width: 100%;border-bottom: 1px solid gray;flex-grow: 1;}#sk-container-id-3 div.sk-label:hover label.sk-toggleable__label {background-color: #d4ebff;}#sk-container-id-3 div.sk-serial::before {content: \"\";position: absolute;border-left: 1px solid gray;box-sizing: border-box;top: 0;bottom: 0;left: 50%;z-index: 0;}#sk-container-id-3 div.sk-serial {display: flex;flex-direction: column;align-items: center;background-color: white;padding-right: 0.2em;padding-left: 0.2em;position: relative;}#sk-container-id-3 div.sk-item {position: relative;z-index: 1;}#sk-container-id-3 div.sk-parallel {display: flex;align-items: stretch;justify-content: center;background-color: white;position: relative;}#sk-container-id-3 div.sk-item::before, #sk-container-id-3 div.sk-parallel-item::before {content: \"\";position: absolute;border-left: 1px solid gray;box-sizing: border-box;top: 0;bottom: 0;left: 50%;z-index: -1;}#sk-container-id-3 div.sk-parallel-item {display: flex;flex-direction: column;z-index: 1;position: relative;background-color: white;}#sk-container-id-3 div.sk-parallel-item:first-child::after {align-self: flex-end;width: 50%;}#sk-container-id-3 div.sk-parallel-item:last-child::after {align-self: flex-start;width: 50%;}#sk-container-id-3 div.sk-parallel-item:only-child::after {width: 0;}#sk-container-id-3 div.sk-dashed-wrapped {border: 1px dashed gray;margin: 0 0.4em 0.5em 0.4em;box-sizing: border-box;padding-bottom: 0.4em;background-color: white;}#sk-container-id-3 div.sk-label label {font-family: monospace;font-weight: bold;display: inline-block;line-height: 1.2em;}#sk-container-id-3 div.sk-label-container {text-align: center;}#sk-container-id-3 div.sk-container {/* jupyter's `normalize.less` sets `[hidden] { display: none; }` but bootstrap.min.css set `[hidden] { display: none !important; }` so we also need the `!important` here to be able to override the default hidden behavior on the sphinx rendered scikit-learn.org. See: https://github.com/scikit-learn/scikit-learn/issues/21755 */display: inline-block !important;position: relative;}#sk-container-id-3 div.sk-text-repr-fallback {display: none;}</style><div id=\"sk-container-id-3\" class=\"sk-top-container\"><div class=\"sk-text-repr-fallback\"><pre>AdaBoostRegressor(base_estimator=DecisionTreeRegressor(max_depth=5,\n",
              "                                                       random_state=42),\n",
              "                  n_estimators=130, random_state=42)</pre><b>In a Jupyter environment, please rerun this cell to show the HTML representation or trust the notebook. <br />On GitHub, the HTML representation is unable to render, please try loading this page with nbviewer.org.</b></div><div class=\"sk-container\" hidden><div class=\"sk-item sk-dashed-wrapped\"><div class=\"sk-label-container\"><div class=\"sk-label sk-toggleable\"><input class=\"sk-toggleable__control sk-hidden--visually\" id=\"sk-estimator-id-9\" type=\"checkbox\" ><label for=\"sk-estimator-id-9\" class=\"sk-toggleable__label sk-toggleable__label-arrow\">AdaBoostRegressor</label><div class=\"sk-toggleable__content\"><pre>AdaBoostRegressor(base_estimator=DecisionTreeRegressor(max_depth=5,\n",
              "                                                       random_state=42),\n",
              "                  n_estimators=130, random_state=42)</pre></div></div></div><div class=\"sk-parallel\"><div class=\"sk-parallel-item\"><div class=\"sk-item\"><div class=\"sk-label-container\"><div class=\"sk-label sk-toggleable\"><input class=\"sk-toggleable__control sk-hidden--visually\" id=\"sk-estimator-id-10\" type=\"checkbox\" ><label for=\"sk-estimator-id-10\" class=\"sk-toggleable__label sk-toggleable__label-arrow\">base_estimator: DecisionTreeRegressor</label><div class=\"sk-toggleable__content\"><pre>DecisionTreeRegressor(max_depth=5, random_state=42)</pre></div></div></div><div class=\"sk-serial\"><div class=\"sk-item\"><div class=\"sk-estimator sk-toggleable\"><input class=\"sk-toggleable__control sk-hidden--visually\" id=\"sk-estimator-id-11\" type=\"checkbox\" ><label for=\"sk-estimator-id-11\" class=\"sk-toggleable__label sk-toggleable__label-arrow\">DecisionTreeRegressor</label><div class=\"sk-toggleable__content\"><pre>DecisionTreeRegressor(max_depth=5, random_state=42)</pre></div></div></div></div></div></div></div></div></div></div>"
            ],
            "text/plain": [
              "AdaBoostRegressor(base_estimator=DecisionTreeRegressor(max_depth=5,\n",
              "                                                       random_state=42),\n",
              "                  n_estimators=130, random_state=42)"
            ]
          },
          "metadata": {},
          "output_type": "display_data"
        },
        {
          "name": "stdout",
          "output_type": "stream",
          "text": [
            "MAE:  0.7993545556571683\n",
            "MSE:  1.1597379333675586\n",
            "RMSE: 1.0769112931748643\n",
            "MAPE: 0.07102511667073758\n",
            "R2:   0.9182117938626894\n",
            "\n",
            "CPU times: total: 1.64 s\n",
            "Wall time: 49.5 s\n"
          ]
        },
        {
          "data": {
            "text/plain": [
              "(0.7993545556571683,\n",
              " 1.1597379333675586,\n",
              " 1.0769112931748643,\n",
              " 0.07102511667073758,\n",
              " 0.9182117938626894)"
            ]
          },
          "execution_count": 23,
          "metadata": {},
          "output_type": "execute_result"
        }
      ],
      "source": [
        "%%time\n",
        "from sklearn.ensemble import AdaBoostRegressor\n",
        "\n",
        "\n",
        "adaboost = AdaBoostRegressor(\n",
        "    learning_rate=1.0, \n",
        "    random_state=42\n",
        ")\n",
        "model_adaboost = GridSearchCV(adaboost, dict(\n",
        "    base_estimator=(\n",
        "        DecisionTreeRegressor(max_depth=10, random_state=42),\n",
        "        DecisionTreeRegressor(max_depth=5, random_state=42),\n",
        "        DecisionTreeRegressor(max_depth=3, random_state=42),\n",
        "    ),\n",
        "    n_estimators=(100, 120, 130, 140, 150, 170, 200),\n",
        "), n_jobs=-1, cv=KFold(10, shuffle=True, random_state=42))\n",
        "model_adaboost.fit(X_fit, y_fit)\n",
        "display(model_adaboost.best_estimator_)\n",
        "\n",
        "regression_metrics(y_test, model_adaboost.predict(X_test), verbose=True);"
      ]
    },
    {
      "cell_type": "code",
      "execution_count": null,
      "metadata": {
        "id": "aibxRPQ73uPr",
        "outputId": "76454400-9f03-4163-9eb2-2c146c92ee29"
      },
      "outputs": [
        {
          "name": "stdout",
          "output_type": "stream",
          "text": [
            "Fitting 5 folds for each of 225 candidates, totalling 1125 fits\n"
          ]
        },
        {
          "data": {
            "text/html": [
              "<style>div.sk-top-container {color: black;background-color: white;}div.sk-toggleable {background-color: white;}label.sk-toggleable__label {cursor: pointer;display: block;width: 100%;margin-bottom: 0;padding: 0.2em 0.3em;box-sizing: border-box;text-align: center;}div.sk-toggleable__content {max-height: 0;max-width: 0;overflow: hidden;text-align: left;background-color: #f0f8ff;}div.sk-toggleable__content pre {margin: 0.2em;color: black;border-radius: 0.25em;background-color: #f0f8ff;}input.sk-toggleable__control:checked~div.sk-toggleable__content {max-height: 200px;max-width: 100%;overflow: auto;}div.sk-estimator input.sk-toggleable__control:checked~label.sk-toggleable__label {background-color: #d4ebff;}div.sk-label input.sk-toggleable__control:checked~label.sk-toggleable__label {background-color: #d4ebff;}input.sk-hidden--visually {border: 0;clip: rect(1px 1px 1px 1px);clip: rect(1px, 1px, 1px, 1px);height: 1px;margin: -1px;overflow: hidden;padding: 0;position: absolute;width: 1px;}div.sk-estimator {font-family: monospace;background-color: #f0f8ff;margin: 0.25em 0.25em;border: 1px dotted black;border-radius: 0.25em;box-sizing: border-box;}div.sk-estimator:hover {background-color: #d4ebff;}div.sk-parallel-item::after {content: \"\";width: 100%;border-bottom: 1px solid gray;flex-grow: 1;}div.sk-label:hover label.sk-toggleable__label {background-color: #d4ebff;}div.sk-serial::before {content: \"\";position: absolute;border-left: 1px solid gray;box-sizing: border-box;top: 2em;bottom: 0;left: 50%;}div.sk-serial {display: flex;flex-direction: column;align-items: center;background-color: white;}div.sk-item {z-index: 1;}div.sk-parallel {display: flex;align-items: stretch;justify-content: center;background-color: white;}div.sk-parallel-item {display: flex;flex-direction: column;position: relative;background-color: white;}div.sk-parallel-item:first-child::after {align-self: flex-end;width: 50%;}div.sk-parallel-item:last-child::after {align-self: flex-start;width: 50%;}div.sk-parallel-item:only-child::after {width: 0;}div.sk-dashed-wrapped {border: 1px dashed gray;margin: 0.2em;box-sizing: border-box;padding-bottom: 0.1em;background-color: white;position: relative;}div.sk-label label {font-family: monospace;font-weight: bold;background-color: white;display: inline-block;line-height: 1.2em;}div.sk-label-container {position: relative;z-index: 2;text-align: center;}div.sk-container {display: inline-block;position: relative;}</style><div class=\"sk-top-container\"><div class=\"sk-container\"><div class=\"sk-item\"><div class=\"sk-estimator sk-toggleable\"><input class=\"sk-toggleable__control sk-hidden--visually\" id=\"e9daa710-ea1d-4244-880c-5219328be5c9\" type=\"checkbox\" checked><label class=\"sk-toggleable__label\" for=\"e9daa710-ea1d-4244-880c-5219328be5c9\">XGBRegressor</label><div class=\"sk-toggleable__content\"><pre>XGBRegressor(base_score=0.5, booster='gbtree', colsample_bylevel=1,\n",
              "             colsample_bynode=1, colsample_bytree=1, gamma=0.5, gpu_id=-1,\n",
              "             importance_type='gain', interaction_constraints='',\n",
              "             learning_rate=0.300000012, max_delta_step=0, max_depth=4,\n",
              "             min_child_weight=1, missing=nan, monotone_constraints='()',\n",
              "             n_estimators=100, n_jobs=1, num_parallel_tree=1, random_state=42,\n",
              "             reg_alpha=0, reg_lambda=1, scale_pos_weight=1, subsample=1,\n",
              "             tree_method='exact', validate_parameters=1, verbosity=None)</pre></div></div></div></div></div>"
            ],
            "text/plain": [
              "XGBRegressor(base_score=0.5, booster='gbtree', colsample_bylevel=1,\n",
              "             colsample_bynode=1, colsample_bytree=1, gamma=0.5, gpu_id=-1,\n",
              "             importance_type='gain', interaction_constraints='',\n",
              "             learning_rate=0.300000012, max_delta_step=0, max_depth=4,\n",
              "             min_child_weight=1, missing=nan, monotone_constraints='()',\n",
              "             n_estimators=100, n_jobs=1, num_parallel_tree=1, random_state=42,\n",
              "             reg_alpha=0, reg_lambda=1, scale_pos_weight=1, subsample=1,\n",
              "             tree_method='exact', validate_parameters=1, verbosity=None)"
            ]
          },
          "metadata": {},
          "output_type": "display_data"
        },
        {
          "name": "stdout",
          "output_type": "stream",
          "text": [
            "MAE:  0.9265926283838263\n",
            "MSE:  1.753348163988469\n",
            "RMSE: 1.3241405378540712\n",
            "MAPE: 0.08123599783238539\n",
            "R2:   0.876348615544237\n",
            "\n",
            "CPU times: user 4.33 s, sys: 141 ms, total: 4.47 s\n",
            "Wall time: 13.6 s\n"
          ]
        },
        {
          "data": {
            "text/plain": [
              "(0.9265926283838263,\n",
              " 1.753348163988469,\n",
              " 1.3241405378540712,\n",
              " 0.08123599783238539,\n",
              " 0.876348615544237)"
            ]
          },
          "execution_count": 48,
          "metadata": {},
          "output_type": "execute_result"
        }
      ],
      "source": [
        "%%time\n",
        "from xgboost import XGBRegressor\n",
        "\n",
        "\n",
        "xgb = XGBRegressor(\n",
        "    n_jobs=1,\n",
        "    random_state=42\n",
        ")\n",
        "\n",
        "model_xgb = GridSearchCV(xgb, {\n",
        "        'n_estimators':(100, 130, 150, 170, 200),\n",
        "        'min_child_weight': [1, 5, 10],\n",
        "        'gamma': [0.5, 1, 1.5, 2, 5],\n",
        "#         'subsample': [0.6, 0.8, 1.0],\n",
        "#         'colsample_bytree': [0.6, 0.8, 1.0],\n",
        "        'max_depth': [3, 4, 5],\n",
        "        # 'booster': ['gbtree', 'gblinear', 'dart'],\n",
        "    }, n_jobs=-1, verbose=10,\n",
        "    cv=KFold(5, shuffle=True, random_state=42)\n",
        ")\n",
        "model_xgb.fit(X_fit, y_fit)\n",
        "display(model_xgb.best_estimator_)\n",
        "\n",
        "regression_metrics(y_test, model_xgb.predict(X_test), verbose=True);"
      ]
    },
    {
      "cell_type": "code",
      "execution_count": null,
      "metadata": {
        "id": "XgEzIJk53uPr"
      },
      "outputs": [],
      "source": []
    }
  ],
  "metadata": {
    "kernelspec": {
      "display_name": "Python 3 (ipykernel)",
      "language": "python",
      "name": "python3"
    },
    "language_info": {
      "codemirror_mode": {
        "name": "ipython",
        "version": 3
      },
      "file_extension": ".py",
      "mimetype": "text/x-python",
      "name": "python",
      "nbconvert_exporter": "python",
      "pygments_lexer": "ipython3",
      "version": "3.10.5"
    },
    "colab": {
      "provenance": [],
      "include_colab_link": true
    }
  },
  "nbformat": 4,
  "nbformat_minor": 0
}