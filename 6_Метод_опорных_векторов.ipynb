{
  "cells": [
    {
      "cell_type": "markdown",
      "metadata": {
        "id": "view-in-github",
        "colab_type": "text"
      },
      "source": [
        "<a href=\"https://colab.research.google.com/github/vorobevskaya/mashine_learning/blob/main/6_%D0%9C%D0%B5%D1%82%D0%BE%D0%B4_%D0%BE%D0%BF%D0%BE%D1%80%D0%BD%D1%8B%D1%85_%D0%B2%D0%B5%D0%BA%D1%82%D0%BE%D1%80%D0%BE%D0%B2.ipynb\" target=\"_parent\"><img src=\"https://colab.research.google.com/assets/colab-badge.svg\" alt=\"Open In Colab\"/></a>"
      ]
    },
    {
      "cell_type": "markdown",
      "metadata": {
        "id": "b40EIsL_20BM"
      },
      "source": [
        "#Метод опорных векторов\n",
        "\n",
        "Подключение библиотек. \n",
        "$\n",
        "\\newcommand{\\R}{\\mathbb{R}}\n",
        "\\newcommand{\\X}{\\mathbb{X}}\n",
        "\\newcommand{\\norm}[1]{\\lVert #1 \\rVert}\n",
        "\\newcommand{\\abs}[1]{\\left| #1 \\right|}\n",
        "\\newcommand{\\E}{\\mathbb{E}}\n",
        "\\newcommand{\\D}{\\mathbb{D}}\n",
        "\\renewcommand{\\Prob}{\\mathbb{P}}\n",
        "\\renewcommand{\\le}{\\leqslant}\n",
        "\\renewcommand{\\ge}{\\geqslant}\n",
        "\\newcommand{\\eps}{\\varepsilon}\n",
        "\\newcommand{\\Normal}{\\mathcal{N}}\n",
        "\\DeclareMathOperator{\\TP}{TP}\n",
        "\\DeclareMathOperator{\\FP}{FP}\n",
        "\\DeclareMathOperator{\\TN}{TN}\n",
        "\\DeclareMathOperator{\\FN}{FN}\n",
        "\\DeclareMathOperator{\\Accuracy}{Accuracy}\n",
        "\\DeclareMathOperator{\\Precision}{Precision}\n",
        "\\DeclareMathOperator{\\Recall}{Recall}\n",
        "\\DeclareMathOperator{\\Fscore}{F_1}\n",
        "\\DeclareMathOperator{\\MSE}{MSE}\n",
        "\\DeclareMathOperator{\\RMSE}{RMSE}\n",
        "\\DeclareMathOperator{\\MAE}{MAE}\n",
        "\\DeclareMathOperator{\\MAPE}{MAPE}\n",
        "\\DeclareMathOperator{\\Rsqured}{R^2}\n",
        "$"
      ]
    },
    {
      "cell_type": "code",
      "execution_count": null,
      "metadata": {
        "id": "-7evKEs020BZ"
      },
      "outputs": [],
      "source": [
        "import numpy as np\n",
        "import pandas as pd\n",
        "\n",
        "import matplotlib.pyplot as plt\n",
        "import seaborn as sns\n",
        "import ipywidgets as wg\n",
        "\n",
        "from matplotlib.colors import ListedColormap\n",
        "\n",
        "import warnings\n",
        "warnings.filterwarnings(\"ignore\", 'This pattern has match groups')\n",
        "\n",
        "cm_bright = ListedColormap(['red', 'blue'])\n",
        "cm = plt.cm.get_cmap('RdBu')\n",
        "plt.style.use('ggplot')\n",
        "plt.rcParams['figure.figsize'] = (12, 8)"
      ]
    },
    {
      "cell_type": "code",
      "execution_count": null,
      "metadata": {
        "id": "uH2JTda-20Bb"
      },
      "outputs": [],
      "source": [
        "from sklearn import set_config\n",
        "\n",
        "set_config(display='diagram')"
      ]
    },
    {
      "cell_type": "code",
      "execution_count": null,
      "metadata": {
        "id": "HfsimiwC20Bb"
      },
      "outputs": [],
      "source": [
        "from sklearn.metrics import mean_absolute_error, mean_squared_error, r2_score\n",
        "\n",
        "\n",
        "def regression_metrics(true, pred, verbose=False, plot=False):\n",
        "    mae = mean_absolute_error(true, pred)\n",
        "    mape = np.abs((true - pred) / true).mean()\n",
        "    mse = mean_squared_error(true, pred)\n",
        "    rmse = np.sqrt(mse)\n",
        "    r2 = r2_score(true, pred)\n",
        "\n",
        "    if verbose:\n",
        "        print('MAE: ', mae)\n",
        "        print('MSE: ', mse)\n",
        "        print('RMSE:', rmse)\n",
        "        print('MAPE:', mape)\n",
        "        print('R2:  ', r2)\n",
        "        print()\n",
        "    \n",
        "    if plot:\n",
        "        plt.figure(0, (6, 6))\n",
        "        plt.scatter(true, pred)\n",
        "        low = min(true.min(), pred.min())\n",
        "        high = max(true.max(), pred.max())\n",
        "\n",
        "        plt.plot([low, high], [low, high], color='blue')\n",
        "        plt.xlabel('Ground Truth')\n",
        "        plt.ylabel('Prediction')\n",
        "        plt.show()\n",
        "        \n",
        "    return (mae, mse, rmse, mape, r2)"
      ]
    },
    {
      "cell_type": "code",
      "execution_count": null,
      "metadata": {
        "id": "XbXWoqJH20Bc"
      },
      "outputs": [],
      "source": [
        "from sklearn.metrics import (accuracy_score, precision_score, recall_score,\n",
        "    f1_score, roc_auc_score, roc_curve)\n",
        "\n",
        "\n",
        "def classification_metrics(true, pred, prob=None, verbose=False, plot=False):\n",
        "    acc = accuracy_score(true, pred)\n",
        "    prec = precision_score(true, pred)\n",
        "    rec = recall_score(true, pred)\n",
        "    f1 = f1_score(true, pred)\n",
        "    roc_auc = roc_auc_score(true, pred)\n",
        "    \n",
        "    if verbose:\n",
        "        print('Accuracy:', acc)\n",
        "        print('Precision:', prec)\n",
        "        print('Recall:', rec)\n",
        "        print('F1-score:', f1)\n",
        "        print('AUC ROC:', roc_auc)\n",
        "        print()\n",
        "    \n",
        "    if plot:\n",
        "        assert prob is not None, 'prob should be non-None'\n",
        "        plt.figure(0, (6, 6))\n",
        "        fpr, tpr, _ = roc_curve(true, prob[:, 1])\n",
        "        plt.plot(fpr, tpr)\n",
        "        plt.plot([0, 1], [0, 1], ls='--', label='random choice')\n",
        "        plt.xlabel('False Positive Rate')\n",
        "        plt.ylabel('True Positive Rate')\n",
        "        plt.title('ROC-curve')\n",
        "        plt.legend()\n",
        "        plt.show()\n",
        "    return acc, prec, rec, f1, roc_auc"
      ]
    },
    {
      "cell_type": "code",
      "execution_count": null,
      "metadata": {
        "id": "1voseeQS20Bc"
      },
      "outputs": [],
      "source": [
        "# вспомогательная функция\n",
        "def plot_classification(X, y, model):\n",
        "    pred = model.predict(X)\n",
        "    \n",
        "    idx = (y == pred) & (y == 1)\n",
        "    plt.scatter(X[idx, 0], X[idx, 1], color='blue', label='true=1, pred=1')\n",
        "\n",
        "    idx = (y != pred) & (y == 1)\n",
        "    plt.scatter(X[idx, 0], X[idx, 1], color='cyan', label='true=1, pred=0')\n",
        "\n",
        "    idx = (y == pred) & (y == 0)\n",
        "    plt.scatter(X[idx, 0], X[idx, 1], color='red', label='true=0, pred=0')\n",
        "\n",
        "    idx = (y != pred) & (y == 0)\n",
        "    plt.scatter(X[idx, 0], X[idx, 1], color='yellow', label='true=0, pred=1')\n",
        "\n",
        "def plot_decision_map(X, y, model, proba=False):\n",
        "    X1, X2 = X[:, 0], X[:, 1]\n",
        "    \n",
        "    x1_low, x1_high = X1.min(), X1.max()\n",
        "    x2_low, x2_high = X2.min(), X2.max()\n",
        "    d1, d2 = x1_high - x1_low, x2_high - x2_low\n",
        "    \n",
        "    x1_low -= d1 * 0.1\n",
        "    x2_low -= d2 * 0.1\n",
        "    x1_high += d1 * 0.1\n",
        "    x2_high += d2 * 0.1\n",
        "    \n",
        "    \n",
        "    X1 = np.linspace(x1_low, x1_high, 128)\n",
        "    X2 = np.linspace(x2_low, x2_high, 128)\n",
        "    X1, X2 = np.meshgrid(X1, X2)\n",
        "    Z = np.c_[X1.flatten(), X2.flatten()]\n",
        "    \n",
        "    if proba:\n",
        "        Z = model.predict_proba(Z)[:, 1]\n",
        "        Z = Z.reshape(X1.shape)\n",
        "    else:\n",
        "        Z = model.predict(Z).reshape(X1.shape)\n",
        "\n",
        "    cmap = cm if proba else cm_bright\n",
        "    plt.contourf(X1, X2, Z, cmap=cmap, alpha=0.2)\n",
        "    \n",
        "def plot_support_vectors(model):\n",
        "    X = model.support_vectors_\n",
        "    plt.scatter(X[:, 0], X[:, 1], s=100, edgecolors='black', facecolors='none')\n",
        "    \n",
        "def plot_all(X, y, model, proba=False, title=''):\n",
        "    plot_classification(X, y, model)\n",
        "    plot_decision_map(X, y, model, proba=proba)\n",
        "    \n",
        "    plt.title(title)\n",
        "    plt.legend()"
      ]
    },
    {
      "cell_type": "markdown",
      "metadata": {
        "id": "DLLKkv4L20Bd"
      },
      "source": [
        "# 1. Классификация"
      ]
    },
    {
      "cell_type": "markdown",
      "metadata": {
        "id": "SLN7QhXS20Bd"
      },
      "source": [
        "## 1.1. Случай линейно разделимых данных"
      ]
    },
    {
      "cell_type": "code",
      "execution_count": null,
      "metadata": {
        "id": "eudNx6KE20Be"
      },
      "outputs": [],
      "source": [
        "from sklearn.datasets import make_classification, make_circles, make_moons\n",
        "from sklearn.model_selection import train_test_split"
      ]
    },
    {
      "cell_type": "code",
      "execution_count": null,
      "metadata": {
        "id": "Ju21XR0-20Be"
      },
      "outputs": [],
      "source": [
        "X, y = make_classification(n_samples=256, \n",
        "                           n_features=2, \n",
        "                           n_informative=2, \n",
        "                           n_redundant=0,\n",
        "                           random_state=42)\n",
        "\n",
        "plt.scatter(X[:, 0], X[:, 1], c=y, cmap=cm_bright)\n",
        "plt.show()"
      ]
    },
    {
      "cell_type": "code",
      "execution_count": null,
      "metadata": {
        "id": "pcD48NRs20Bf"
      },
      "outputs": [],
      "source": [
        "from sklearn.svm import SVC\n",
        "\n",
        "model = SVC(kernel='linear', probability=True)\n",
        "model.fit(X, y)"
      ]
    },
    {
      "cell_type": "code",
      "execution_count": null,
      "metadata": {
        "id": "I4EgYT2620Bf"
      },
      "outputs": [],
      "source": [
        "plot_all(X, y, model, proba=True)\n",
        "plot_support_vectors(model)"
      ]
    },
    {
      "cell_type": "markdown",
      "metadata": {
        "id": "lVeaG0EG20Bf"
      },
      "source": [
        "# 1.2. Линейно неразделимые данные. Ядерный переход"
      ]
    },
    {
      "cell_type": "code",
      "execution_count": null,
      "metadata": {
        "id": "Anbcwlwf20Bf"
      },
      "outputs": [],
      "source": [
        "X, y = make_circles(n_samples=128, noise=0.1, factor=0.5,\n",
        "                  random_state=42)\n",
        "\n",
        "plt.scatter(X[:, 0], X[:, 1], c=y, cmap=cm_bright)\n",
        "plt.show()"
      ]
    },
    {
      "cell_type": "code",
      "execution_count": null,
      "metadata": {
        "id": "12MLMxZ820Bg"
      },
      "outputs": [],
      "source": [
        "X = np.row_stack([[-1, 1], X, ])\n",
        "y = np.concatenate([[1], y])"
      ]
    },
    {
      "cell_type": "code",
      "execution_count": null,
      "metadata": {
        "id": "SmkuTaGt20Bg"
      },
      "outputs": [],
      "source": [
        "model = SVC(kernel='linear', probability=True)\n",
        "model.fit(X, y)\n",
        "\n",
        "plot_all(X, y, model, proba=True)\n",
        "plot_support_vectors(model)"
      ]
    },
    {
      "cell_type": "markdown",
      "metadata": {
        "id": "F9-zqN-520Bg"
      },
      "source": [
        "Воспользуемся ядерным переходом:"
      ]
    },
    {
      "cell_type": "code",
      "execution_count": null,
      "metadata": {
        "id": "zKHMmmkQ20Bg"
      },
      "outputs": [],
      "source": [
        "def rbf_1d(x):\n",
        "    return np.exp(-(x**2))\n",
        "\n",
        "x_plt = np.linspace(-3, 3)\n",
        "y_plt = rbf_1d(x_plt)\n",
        "\n",
        "plt.figure(0, (8, 3))\n",
        "plt.plot(x_plt, y_plt)\n",
        "plt.show()"
      ]
    },
    {
      "cell_type": "code",
      "execution_count": null,
      "metadata": {
        "id": "L2qjVeQ520Bg"
      },
      "outputs": [],
      "source": [
        "model = SVC(kernel='rbf', probability=True)\n",
        "model.fit(X, y)"
      ]
    },
    {
      "cell_type": "code",
      "execution_count": null,
      "metadata": {
        "id": "-7uwp3gX20Bh"
      },
      "outputs": [],
      "source": [
        "plot_all(X, y, model, proba=True)\n",
        "plot_support_vectors(model)"
      ]
    },
    {
      "cell_type": "markdown",
      "metadata": {
        "id": "TPQNjibk20Bh"
      },
      "source": [
        "Посмотрим на параметры:"
      ]
    },
    {
      "cell_type": "code",
      "execution_count": null,
      "metadata": {
        "id": "YfGGIU2Z20Bi"
      },
      "outputs": [],
      "source": [
        "import ipywidgets as wg\n",
        "\n",
        "\n",
        "output = wg.Output()\n",
        "\n",
        "def func(C, kernel, degree, gamma, shrinking, proba):\n",
        "    model = SVC(C=C,\n",
        "                kernel=kernel,\n",
        "                degree=degree,\n",
        "                gamma=gamma,\n",
        "                shrinking=shrinking,\n",
        "                random_state=42,\n",
        "                probability=True)\n",
        "    model.fit(X, y)\n",
        "    \n",
        "    with output:\n",
        "        output.clear_output(wait=True)\n",
        "        plot_all(X, y, model, proba=proba)\n",
        "        plot_support_vectors(model)\n",
        "        plt.title(f'C={C}, kernel={kernel}, degree={degree}, gamma={gamma}, shrinking={shrinking}')\n",
        "        plt.show()\n",
        "    \n",
        "wg.interact(func, \n",
        "            C=wg.FloatLogSlider(min=-3, max=3, base=10),\n",
        "            kernel=wg.Select(options=['rbf', 'linear', 'poly', 'sigmoid']),\n",
        "            degree=wg.IntSlider(min=1, max=8),\n",
        "            gamma=wg.FloatLogSlider(min=-2, max=2),\n",
        "            shrinking=wg.Checkbox(),\n",
        "            proba=wg.Checkbox(),\n",
        "            countinuous=True)\n",
        "\n",
        "display(output)"
      ]
    },
    {
      "cell_type": "markdown",
      "metadata": {
        "id": "0A6Zz4gN20Bj"
      },
      "source": [
        "# 1.3. Пример: Титаник\n",
        "\n",
        "* survived -- спасен или нет;\n",
        "* pclass -- социально-экономический статус (1 -- upper, 2 -- middle, 3 -- lower);\n",
        "* sex -- пол;\n",
        "* age -- возраст;\n",
        "* sibsp -- число ближайших родственников на борту (муж/жена, брат/сестра);\n",
        "* parch -- число родителей/детей на борту;\n",
        "* fare -- плата за проезд;\n",
        "* embarked -- место посадки."
      ]
    },
    {
      "cell_type": "code",
      "execution_count": null,
      "metadata": {
        "id": "PFJwisam20Bk"
      },
      "outputs": [],
      "source": [
        "frame = sns.load_dataset('titanic')\n",
        "frame = frame[['pclass', 'sex', 'age', 'fare', 'survived']].dropna()\n",
        "\n",
        "print('Shape:', frame.shape)\n",
        "frame.head()"
      ]
    },
    {
      "cell_type": "code",
      "execution_count": null,
      "metadata": {
        "id": "5gwKbrb-20Bk"
      },
      "outputs": [],
      "source": [
        "X = frame[['pclass', 'sex', 'age', 'fare']].copy()\n",
        "y = frame['survived'].copy()"
      ]
    },
    {
      "cell_type": "code",
      "execution_count": null,
      "metadata": {
        "id": "y1jRoyhA20Bl"
      },
      "outputs": [],
      "source": [
        "X_fit, X_test, y_fit, y_test = train_test_split(X, y, test_size=0.2, random_state=42)\n",
        "\n",
        "print('Fit size:', X_fit.shape[0])\n",
        "print('Test size:', X_test.shape[0])"
      ]
    },
    {
      "cell_type": "code",
      "execution_count": null,
      "metadata": {
        "id": "2WqMvVTJ20Bl"
      },
      "outputs": [],
      "source": [
        "from sklearn.compose import make_column_transformer\n",
        "from sklearn.preprocessing import StandardScaler, OneHotEncoder\n",
        "\n",
        "\n",
        "transformer = make_column_transformer(\n",
        "    (StandardScaler(), ['age', 'fare']),\n",
        "    (OneHotEncoder(sparse=False, drop='first'), ['pclass', 'sex'])\n",
        ")"
      ]
    },
    {
      "cell_type": "code",
      "execution_count": null,
      "metadata": {
        "id": "N4t8MSUW20Bl"
      },
      "outputs": [],
      "source": [
        "from sklearn.pipeline import make_pipeline\n",
        "\n",
        "\n",
        "estimator = SVC(probability=True, random_state=42)\n",
        "pipeline = make_pipeline(transformer, estimator)"
      ]
    },
    {
      "cell_type": "code",
      "execution_count": null,
      "metadata": {
        "id": "QBBAfEst20Bm"
      },
      "outputs": [],
      "source": [
        "from sklearn.model_selection import GridSearchCV\n",
        "\n",
        "\n",
        "model = GridSearchCV(pipeline, {\n",
        "    'svc__kernel': ('rbf', 'linear', 'sigmoid'),\n",
        "    'svc__gamma': np.logspace(-1, 2, 64),\n",
        "}, verbose=1, n_jobs=-1)\n",
        "model.fit(X_fit, y_fit)\n",
        "model.best_estimator_"
      ]
    },
    {
      "cell_type": "code",
      "execution_count": null,
      "metadata": {
        "id": "_Zwl8Q5520Bm"
      },
      "outputs": [],
      "source": [
        "classification_metrics(y_test, \n",
        "                       model.predict(X_test), \n",
        "                       model.predict_proba(X_test),\n",
        "                       verbose=True, plot=True)"
      ]
    },
    {
      "cell_type": "raw",
      "metadata": {
        "id": "1xnJWUWx20Bn"
      },
      "source": [
        "Valid:\n",
        "Accuracy: 0.7758620689655172\n",
        "Precision: 0.782608695652174\n",
        "Recall: 0.6923076923076923\n",
        "F1-score: 0.7346938775510203\n",
        "AUC ROC: 0.7680288461538461"
      ]
    },
    {
      "cell_type": "markdown",
      "metadata": {
        "id": "N4WllNwb20Bn"
      },
      "source": [
        "# 2. Регрессия "
      ]
    },
    {
      "cell_type": "markdown",
      "metadata": {
        "id": "hSEwg-pI20Bn"
      },
      "source": [
        "## 2.1. Пример с синтетическими данными"
      ]
    },
    {
      "cell_type": "code",
      "execution_count": null,
      "metadata": {
        "id": "lcuNF6QP20Bn"
      },
      "outputs": [],
      "source": [
        "def gt_func(x):\n",
        "    return np.cos(x) / (np.power(x, 2) + 1)\n",
        "\n",
        "N = 64\n",
        "low, high = -2 * np.pi, 2 * np.pi\n",
        "\n",
        "np.random.seed(42)\n",
        "X = np.linspace(low, high, N).reshape(-1, 1)\n",
        "y = gt_func(X[:, 0]) + np.random.normal(scale=0.1, size=N)\n",
        "\n",
        "\n",
        "x_plt = np.linspace(low, high, 1024)\n",
        "plt.scatter(X, y, color='blue')\n",
        "plt.plot(x_plt, gt_func(x_plt), ls='--', color='green')\n",
        "plt.show()"
      ]
    },
    {
      "cell_type": "markdown",
      "metadata": {
        "id": "2huXh5UZ20Bn"
      },
      "source": [
        "Учим SVM:"
      ]
    },
    {
      "cell_type": "code",
      "execution_count": null,
      "metadata": {
        "id": "FFkHzSs920Bo"
      },
      "outputs": [],
      "source": [
        "from sklearn.svm import SVR\n",
        "\n",
        "\n",
        "model = SVR(kernel='rbf')\n",
        "model.fit(X, y)\n",
        "\n",
        "y_plt = model.predict(x_plt.reshape(-1, 1))\n",
        "\n",
        "plt.scatter(X, y, color='blue', alpha=0.6)\n",
        "plt.axhline(0, color='black', alpha=0.5)\n",
        "plt.plot(model.support_vectors_, np.zeros_like(model.support_vectors_), '|', markersize=12, color='k')\n",
        "plt.plot(x_plt, y_plt, ls='--', color='blue')\n",
        "plt.plot(x_plt, gt_func(x_plt), ls='--', color='green')\n",
        "plt.show()"
      ]
    },
    {
      "cell_type": "code",
      "execution_count": null,
      "metadata": {
        "id": "eAGvaB2l20Bo"
      },
      "outputs": [],
      "source": [
        "output = wg.Output()\n",
        "\n",
        "def func(C, kernel, degree, gamma, shrinking):\n",
        "    model = SVR(C=C,\n",
        "                kernel=kernel,\n",
        "                degree=degree,\n",
        "                gamma=gamma)\n",
        "    model.fit(X, y)\n",
        "    \n",
        "    with output:\n",
        "        output.clear_output(wait=True)\n",
        "        \n",
        "        y_plt = model.predict(x_plt.reshape(-1, 1))\n",
        "        plt.scatter(X, y, color='blue', alpha=0.6)\n",
        "        plt.axhline(0, color='black', alpha=0.5)\n",
        "        plt.plot(model.support_vectors_, np.zeros_like(model.support_vectors_), '|', markersize=12, color='k')\n",
        "        plt.plot(x_plt, y_plt, ls='--', color='blue')\n",
        "        plt.plot(x_plt, gt_func(x_plt), ls='--', color='green')\n",
        "        plt.show()\n",
        "    \n",
        "wg.interact(func, \n",
        "            C=wg.FloatLogSlider(min=-3, max=3, base=10),\n",
        "            kernel=wg.Select(options=['rbf', 'linear', 'poly']),\n",
        "            degree=wg.IntSlider(min=1, max=8),\n",
        "            gamma=wg.FloatLogSlider(min=-2, max=2),\n",
        "            shrinking=wg.Checkbox(),\n",
        "            countinuous=True)\n",
        "\n",
        "display(output)"
      ]
    },
    {
      "cell_type": "markdown",
      "metadata": {
        "id": "7U5JA97T20Bo"
      },
      "source": [
        "## 2.2. Пример: расход топлива\n",
        "\n",
        "Датасет __mpg__. По характеристикам машины необходимо спрогнозировать расход топлива.\n",
        "\n",
        "Признаки:\n",
        "* cylinders -- число цилиндров в двигателе;\n",
        "* displacement -- рабочий объем, л;\n",
        "* horsepower -- мощность, л.с.;\n",
        "* weight -- вес, т;\n",
        "* acceleration -- ускорение;\n",
        "* model_year -- год выпуска модели;\n",
        "* origin -- производитель;\n",
        "* name -- название.\n",
        "\n",
        "Целевая переменная:\n",
        "* mpg -- миль на галлон, переведено в км/л."
      ]
    },
    {
      "cell_type": "code",
      "execution_count": null,
      "metadata": {
        "id": "XzkZeE2220Bo"
      },
      "outputs": [],
      "source": [
        "frame = sns.load_dataset('mpg')\n",
        "frame.dropna(inplace=True)\n",
        "\n",
        "frame['displacement'] *= 16.3871 / 1000\n",
        "frame['mpg'] = 100 / (frame.mpg * 1.60934 / 3.78541)\n",
        "frame['weight'] *= 0.453592 / 1000\n",
        "\n",
        "frame.head()"
      ]
    },
    {
      "cell_type": "code",
      "execution_count": null,
      "metadata": {
        "id": "5SmIMOFo20Bp"
      },
      "outputs": [],
      "source": [
        "X = frame.drop(columns=['mpg', 'name']).copy()\n",
        "y = frame.mpg.copy()"
      ]
    },
    {
      "cell_type": "code",
      "execution_count": null,
      "metadata": {
        "id": "7cLomMhx20Bp"
      },
      "outputs": [],
      "source": [
        "X_fit, X_test, y_fit, y_test = train_test_split(X, y, test_size=0.2, random_state=42)\n",
        "\n",
        "print('Fit size:', X_fit.shape[0])\n",
        "print('Test size:', X_test.shape[0])"
      ]
    },
    {
      "cell_type": "code",
      "execution_count": null,
      "metadata": {
        "id": "wF1XbgWA20Bp"
      },
      "outputs": [],
      "source": [
        "num_features = ['displacement', 'horsepower', 'weight', 'acceleration', 'cylinders', 'model_year']\n",
        "cat_features = ['origin']\n",
        "\n",
        "transformer = make_column_transformer((StandardScaler(), num_features), (OneHotEncoder(drop='first'), cat_features))\n",
        "\n",
        "estimator = SVR(kernel='rbf', gamma='auto')\n",
        "pipeline = make_pipeline(transformer, estimator)\n",
        "pipeline"
      ]
    },
    {
      "cell_type": "code",
      "execution_count": null,
      "metadata": {
        "id": "3xyOV6uR20Bp"
      },
      "outputs": [],
      "source": [
        "display(np.linspace(-3, 3, 7))\n",
        "\n",
        "np.logspace(-3, 3, 7) == np.power(10, np.linspace(-3, 3, 7))"
      ]
    },
    {
      "cell_type": "code",
      "execution_count": null,
      "metadata": {
        "scrolled": true,
        "id": "2wc4pVIx20Bp"
      },
      "outputs": [],
      "source": [
        "model = GridSearchCV(pipeline, {\n",
        "    'svr__kernel': ('rbf', 'sigmoid', 'linear'),\n",
        "    'svr__gamma': np.logspace(-3, 2, 16),\n",
        "    'svr__C': np.logspace(-1, 4, 16),\n",
        "}, verbose=1, n_jobs=-1)\n",
        "model.fit(X_fit, y_fit)\n",
        "model.best_estimator_"
      ]
    },
    {
      "cell_type": "code",
      "execution_count": null,
      "metadata": {
        "id": "deU2j5SF20Bq"
      },
      "outputs": [],
      "source": [
        "print('Test:')\n",
        "regression_metrics(y_test, model.predict(X_test), verbose=True);"
      ]
    },
    {
      "cell_type": "raw",
      "metadata": {
        "id": "_JcmCyW620Bq"
      },
      "source": [
        "Final GridSearch Ridge metrics:\n",
        "MAE:  0.9667811576541921\n",
        "MSE:  1.5626387355606752\n",
        "RMSE: 1.2500554929924812\n",
        "MAPE: 0.08668780203659783\n",
        "R2:   0.8897980178581627\n",
        "\n",
        "Final KNN metrics:\n",
        "MAE:  0.822720457465188\n",
        "MSE:  1.2513069714640999\n",
        "RMSE: 1.1186183314536284\n",
        "MAPE: 0.07230392898775811\n",
        "R2:   0.9117540699682157"
      ]
    },
    {
      "cell_type": "code",
      "execution_count": null,
      "metadata": {
        "id": "BNWDUKCv20Bq"
      },
      "outputs": [],
      "source": []
    }
  ],
  "metadata": {
    "kernelspec": {
      "display_name": "Python 3 (ipykernel)",
      "language": "python",
      "name": "python3"
    },
    "language_info": {
      "codemirror_mode": {
        "name": "ipython",
        "version": 3
      },
      "file_extension": ".py",
      "mimetype": "text/x-python",
      "name": "python",
      "nbconvert_exporter": "python",
      "pygments_lexer": "ipython3",
      "version": "3.8.10"
    },
    "colab": {
      "provenance": [],
      "include_colab_link": true
    }
  },
  "nbformat": 4,
  "nbformat_minor": 0
}